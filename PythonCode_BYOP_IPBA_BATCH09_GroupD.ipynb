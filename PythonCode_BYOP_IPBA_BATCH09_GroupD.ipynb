{
 "cells": [
  {
   "cell_type": "code",
   "execution_count": 1,
   "id": "e0e8cdac",
   "metadata": {},
   "outputs": [
    {
     "data": {
      "text/plain": [
       "'C:\\\\Users\\\\haripriya_dittakavi\\\\Desktop\\\\IPBA\\\\BYOP'"
      ]
     },
     "execution_count": 1,
     "metadata": {},
     "output_type": "execute_result"
    }
   ],
   "source": [
    "import os\n",
    "os.getcwd()"
   ]
  },
  {
   "cell_type": "code",
   "execution_count": 2,
   "id": "f2be8866",
   "metadata": {},
   "outputs": [
    {
     "data": {
      "text/plain": [
       "'C:\\\\Users\\\\haripriya_dittakavi\\\\Desktop\\\\IPBA\\\\BYOP'"
      ]
     },
     "execution_count": 2,
     "metadata": {},
     "output_type": "execute_result"
    }
   ],
   "source": [
    "cwd = \"C:\\\\Users\\\\haripriya_dittakavi\\\\Desktop\\\\IPBA\\\\BYOP\"\n",
    "os.chdir(cwd)\n",
    "os.getcwd()"
   ]
  },
  {
   "cell_type": "code",
   "execution_count": 3,
   "id": "e29b59ad",
   "metadata": {},
   "outputs": [],
   "source": [
    "# Imports\n",
    "import pandas as pd\n",
    "import numpy as np\n",
    "import matplotlib.pyplot as plt\n",
    "import seaborn as sns\n",
    "import warnings\n",
    "warnings.filterwarnings('ignore')"
   ]
  },
  {
   "cell_type": "code",
   "execution_count": 4,
   "id": "ce62f85b",
   "metadata": {},
   "outputs": [],
   "source": [
    "df = pd.read_csv(\"capstone_dataset_27jan.csv\")\n",
    "df_orig = df"
   ]
  },
  {
   "cell_type": "code",
   "execution_count": 5,
   "id": "4b0a655d",
   "metadata": {},
   "outputs": [
    {
     "data": {
      "text/plain": [
       "(576481, 22)"
      ]
     },
     "execution_count": 5,
     "metadata": {},
     "output_type": "execute_result"
    }
   ],
   "source": [
    "df.shape"
   ]
  },
  {
   "cell_type": "code",
   "execution_count": 6,
   "id": "4ddce349",
   "metadata": {},
   "outputs": [
    {
     "name": "stdout",
     "output_type": "stream",
     "text": [
      "<class 'pandas.core.frame.DataFrame'>\n",
      "RangeIndex: 576481 entries, 0 to 576480\n",
      "Data columns (total 22 columns):\n",
      " #   Column              Non-Null Count   Dtype  \n",
      "---  ------              --------------   -----  \n",
      " 0   item_id             576481 non-null  int64  \n",
      " 1   status              576481 non-null  object \n",
      " 2   order_date          576481 non-null  object \n",
      " 3   item_description    576481 non-null  object \n",
      " 4   price               576481 non-null  float64\n",
      " 5   qty_ordered         576481 non-null  int64  \n",
      " 6   order_amount        576481 non-null  float64\n",
      " 7   order_id            576481 non-null  object \n",
      " 8   category_name       576481 non-null  object \n",
      " 9   discount_amount     576481 non-null  float64\n",
      " 10  payment_method      576481 non-null  object \n",
      " 11  working_date        576481 non-null  object \n",
      " 12  BI Status           576481 non-null  object \n",
      " 13  market_value        576481 non-null  int64  \n",
      " 14  Year                576481 non-null  int64  \n",
      " 15  Month               576481 non-null  int64  \n",
      " 16  customer_since      576481 non-null  object \n",
      " 17  M-Y                 576481 non-null  object \n",
      " 18  FY                  576481 non-null  int64  \n",
      " 19  customer_id         576481 non-null  int64  \n",
      " 20  order_status        576481 non-null  object \n",
      " 21  final_order_amount  576481 non-null  float64\n",
      "dtypes: float64(4), int64(7), object(11)\n",
      "memory usage: 96.8+ MB\n"
     ]
    }
   ],
   "source": [
    "df.info()"
   ]
  },
  {
   "cell_type": "code",
   "execution_count": 7,
   "id": "aefbfdc6",
   "metadata": {},
   "outputs": [],
   "source": [
    "#df.category_name.value_counts()"
   ]
  },
  {
   "cell_type": "code",
   "execution_count": 8,
   "id": "736e7720",
   "metadata": {
    "scrolled": true
   },
   "outputs": [],
   "source": [
    "#plt.figure(figsize = (25,8))\n",
    "#fig = sns.countplot(df['category_name'])"
   ]
  },
  {
   "cell_type": "code",
   "execution_count": 9,
   "id": "38e56fe1",
   "metadata": {
    "scrolled": true
   },
   "outputs": [
    {
     "data": {
      "image/png": "[encoded data removed]",
      "text/plain": [
       "<Figure size 1800x576 with 1 Axes>"
      ]
     },
     "metadata": {
      "needs_background": "light"
     },
     "output_type": "display_data"
    }
   ],
   "source": [
    "# Highest selling category\n",
    "plt.figure(figsize = (25,8))\n",
    "fig = sns.countplot(df['category_name'], order = df['category_name'].value_counts().index)"
   ]
  },
  {
   "cell_type": "code",
   "execution_count": 10,
   "id": "d9dcc4a7",
   "metadata": {},
   "outputs": [],
   "source": [
    "df1 = df"
   ]
  },
  {
   "cell_type": "code",
   "execution_count": 11,
   "id": "31d39ae2",
   "metadata": {},
   "outputs": [
    {
     "data": {
      "text/plain": [
       "(576481, 22)"
      ]
     },
     "execution_count": 11,
     "metadata": {},
     "output_type": "execute_result"
    }
   ],
   "source": [
    "df1.shape"
   ]
  },
  {
   "cell_type": "code",
   "execution_count": 12,
   "id": "69c708b2",
   "metadata": {},
   "outputs": [],
   "source": [
    "# df1 to hold only \"completed\" in \"order_status\"\n",
    "#df1.head(2)"
   ]
  },
  {
   "cell_type": "code",
   "execution_count": 13,
   "id": "919d3394",
   "metadata": {},
   "outputs": [],
   "source": [
    "df1 = df1[df1.order_status == 'completed']"
   ]
  },
  {
   "cell_type": "code",
   "execution_count": 14,
   "id": "4a1dc837",
   "metadata": {},
   "outputs": [
    {
     "data": {
      "text/plain": [
       "(230949, 22)"
      ]
     },
     "execution_count": 14,
     "metadata": {},
     "output_type": "execute_result"
    }
   ],
   "source": [
    "df1.shape\n",
    "#df1.head(2)"
   ]
  },
  {
   "cell_type": "code",
   "execution_count": 15,
   "id": "b9fb4f58",
   "metadata": {},
   "outputs": [],
   "source": [
    "# Market value contains commas which needs to be removed so as to convert datatype from object to int/float\n",
    "#df1.market_value = df1.market_value.str.replace(\",\",\"\") # replacing commas with blank"
   ]
  },
  {
   "cell_type": "code",
   "execution_count": 16,
   "id": "4299bb19",
   "metadata": {},
   "outputs": [],
   "source": [
    "#df1.market_value = df1.market_value.str.replace(\"-\",\"0\") # replacing - values in the DF with 0 in MV"
   ]
  },
  {
   "cell_type": "code",
   "execution_count": 17,
   "id": "ebbb9cf9",
   "metadata": {},
   "outputs": [
    {
     "data": {
      "text/html": [
       "<div>\n",
       "<style scoped>\n",
       "    .dataframe tbody tr th:only-of-type {\n",
       "        vertical-align: middle;\n",
       "    }\n",
       "\n",
       "    .dataframe tbody tr th {\n",
       "        vertical-align: top;\n",
       "    }\n",
       "\n",
       "    .dataframe thead th {\n",
       "        text-align: right;\n",
       "    }\n",
       "</style>\n",
       "<table border=\"1\" class=\"dataframe\">\n",
       "  <thead>\n",
       "    <tr style=\"text-align: right;\">\n",
       "      <th></th>\n",
       "      <th>item_id</th>\n",
       "      <th>status</th>\n",
       "      <th>order_date</th>\n",
       "      <th>item_description</th>\n",
       "      <th>price</th>\n",
       "      <th>qty_ordered</th>\n",
       "      <th>order_amount</th>\n",
       "      <th>order_id</th>\n",
       "      <th>category_name</th>\n",
       "      <th>discount_amount</th>\n",
       "      <th>...</th>\n",
       "      <th>BI Status</th>\n",
       "      <th>market_value</th>\n",
       "      <th>Year</th>\n",
       "      <th>Month</th>\n",
       "      <th>customer_since</th>\n",
       "      <th>M-Y</th>\n",
       "      <th>FY</th>\n",
       "      <th>customer_id</th>\n",
       "      <th>order_status</th>\n",
       "      <th>final_order_amount</th>\n",
       "    </tr>\n",
       "  </thead>\n",
       "  <tbody>\n",
       "    <tr>\n",
       "      <th>0</th>\n",
       "      <td>313042</td>\n",
       "      <td>complete</td>\n",
       "      <td>11/23/16</td>\n",
       "      <td>Stek_Wireless Mouse-blue</td>\n",
       "      <td>332.0</td>\n",
       "      <td>1</td>\n",
       "      <td>332.0</td>\n",
       "      <td>100001290</td>\n",
       "      <td>Computing</td>\n",
       "      <td>0.0</td>\n",
       "      <td>...</td>\n",
       "      <td>Net</td>\n",
       "      <td>332</td>\n",
       "      <td>2016</td>\n",
       "      <td>11</td>\n",
       "      <td>11/1/16</td>\n",
       "      <td>11/1/16</td>\n",
       "      <td>2017</td>\n",
       "      <td>19328</td>\n",
       "      <td>completed</td>\n",
       "      <td>332.0</td>\n",
       "    </tr>\n",
       "    <tr>\n",
       "      <th>2</th>\n",
       "      <td>211131</td>\n",
       "      <td>complete</td>\n",
       "      <td>7/1/16</td>\n",
       "      <td>kreations_YI 06-L</td>\n",
       "      <td>1950.0</td>\n",
       "      <td>1</td>\n",
       "      <td>1950.0</td>\n",
       "      <td>100147443</td>\n",
       "      <td>Women's Fashion</td>\n",
       "      <td>0.0</td>\n",
       "      <td>...</td>\n",
       "      <td>#REF!</td>\n",
       "      <td>1950</td>\n",
       "      <td>2016</td>\n",
       "      <td>7</td>\n",
       "      <td>7/1/16</td>\n",
       "      <td>7/1/16</td>\n",
       "      <td>2017</td>\n",
       "      <td>1</td>\n",
       "      <td>completed</td>\n",
       "      <td>1950.0</td>\n",
       "    </tr>\n",
       "  </tbody>\n",
       "</table>\n",
       "<p>2 rows × 22 columns</p>\n",
       "</div>"
      ],
      "text/plain": [
       "   item_id    status order_date          item_description   price  \\\n",
       "0   313042  complete   11/23/16  Stek_Wireless Mouse-blue   332.0   \n",
       "2   211131  complete     7/1/16         kreations_YI 06-L  1950.0   \n",
       "\n",
       "   qty_ordered  order_amount   order_id    category_name  discount_amount  \\\n",
       "0            1         332.0  100001290        Computing              0.0   \n",
       "2            1        1950.0  100147443  Women's Fashion              0.0   \n",
       "\n",
       "   ... BI Status market_value  Year  Month  customer_since      M-Y    FY  \\\n",
       "0  ...       Net          332  2016     11         11/1/16  11/1/16  2017   \n",
       "2  ...     #REF!         1950  2016      7          7/1/16   7/1/16  2017   \n",
       "\n",
       "  customer_id  order_status  final_order_amount  \n",
       "0       19328     completed               332.0  \n",
       "2           1     completed              1950.0  \n",
       "\n",
       "[2 rows x 22 columns]"
      ]
     },
     "execution_count": 17,
     "metadata": {},
     "output_type": "execute_result"
    }
   ],
   "source": [
    "df1.head(2)"
   ]
  },
  {
   "cell_type": "code",
   "execution_count": 18,
   "id": "96db7525",
   "metadata": {},
   "outputs": [
    {
     "name": "stdout",
     "output_type": "stream",
     "text": [
      "<class 'pandas.core.frame.DataFrame'>\n",
      "Int64Index: 230949 entries, 0 to 576480\n",
      "Data columns (total 22 columns):\n",
      " #   Column              Non-Null Count   Dtype  \n",
      "---  ------              --------------   -----  \n",
      " 0   item_id             230949 non-null  int64  \n",
      " 1   status              230949 non-null  object \n",
      " 2   order_date          230949 non-null  object \n",
      " 3   item_description    230949 non-null  object \n",
      " 4   price               230949 non-null  float64\n",
      " 5   qty_ordered         230949 non-null  int64  \n",
      " 6   order_amount        230949 non-null  float64\n",
      " 7   order_id            230949 non-null  object \n",
      " 8   category_name       230949 non-null  object \n",
      " 9   discount_amount     230949 non-null  float64\n",
      " 10  payment_method      230949 non-null  object \n",
      " 11  working_date        230949 non-null  object \n",
      " 12  BI Status           230949 non-null  object \n",
      " 13  market_value        230949 non-null  int64  \n",
      " 14  Year                230949 non-null  int64  \n",
      " 15  Month               230949 non-null  int64  \n",
      " 16  customer_since      230949 non-null  object \n",
      " 17  M-Y                 230949 non-null  object \n",
      " 18  FY                  230949 non-null  int64  \n",
      " 19  customer_id         230949 non-null  int64  \n",
      " 20  order_status        230949 non-null  object \n",
      " 21  final_order_amount  230949 non-null  float64\n",
      "dtypes: float64(4), int64(7), object(11)\n",
      "memory usage: 40.5+ MB\n"
     ]
    }
   ],
   "source": [
    "df1.info()"
   ]
  },
  {
   "cell_type": "code",
   "execution_count": 19,
   "id": "eee193e8",
   "metadata": {},
   "outputs": [],
   "source": [
    "df1.market_value =pd.to_numeric(df1.market_value)"
   ]
  },
  {
   "cell_type": "code",
   "execution_count": 20,
   "id": "5e16c232",
   "metadata": {},
   "outputs": [
    {
     "name": "stdout",
     "output_type": "stream",
     "text": [
      "<class 'pandas.core.frame.DataFrame'>\n",
      "Int64Index: 230949 entries, 0 to 576480\n",
      "Data columns (total 22 columns):\n",
      " #   Column              Non-Null Count   Dtype  \n",
      "---  ------              --------------   -----  \n",
      " 0   item_id             230949 non-null  int64  \n",
      " 1   status              230949 non-null  object \n",
      " 2   order_date          230949 non-null  object \n",
      " 3   item_description    230949 non-null  object \n",
      " 4   price               230949 non-null  float64\n",
      " 5   qty_ordered         230949 non-null  int64  \n",
      " 6   order_amount        230949 non-null  float64\n",
      " 7   order_id            230949 non-null  object \n",
      " 8   category_name       230949 non-null  object \n",
      " 9   discount_amount     230949 non-null  float64\n",
      " 10  payment_method      230949 non-null  object \n",
      " 11  working_date        230949 non-null  object \n",
      " 12  BI Status           230949 non-null  object \n",
      " 13  market_value        230949 non-null  int64  \n",
      " 14  Year                230949 non-null  int64  \n",
      " 15  Month               230949 non-null  int64  \n",
      " 16  customer_since      230949 non-null  object \n",
      " 17  M-Y                 230949 non-null  object \n",
      " 18  FY                  230949 non-null  int64  \n",
      " 19  customer_id         230949 non-null  int64  \n",
      " 20  order_status        230949 non-null  object \n",
      " 21  final_order_amount  230949 non-null  float64\n",
      "dtypes: float64(4), int64(7), object(11)\n",
      "memory usage: 40.5+ MB\n"
     ]
    }
   ],
   "source": [
    "df1.info()"
   ]
  },
  {
   "cell_type": "code",
   "execution_count": 21,
   "id": "d4f8a34d",
   "metadata": {
    "scrolled": true
   },
   "outputs": [
    {
     "data": {
      "text/plain": [
       "<AxesSubplot:xlabel='category_name', ylabel='market_value'>"
      ]
     },
     "execution_count": 21,
     "metadata": {},
     "output_type": "execute_result"
    },
    {
     "data": {
      "image/png": "[encoded data removed]",
      "text/plain": [
       "<Figure size 1800x576 with 1 Axes>"
      ]
     },
     "metadata": {
      "needs_background": "light"
     },
     "output_type": "display_data"
    }
   ],
   "source": [
    "plt.figure(figsize = (25,8))\n",
    "sns.barplot(x = 'category_name', y = 'market_value', data = df1)\n",
    "# Below is for only completed \"order_status\" (column filtered in df1)"
   ]
  },
  {
   "cell_type": "code",
   "execution_count": 22,
   "id": "bf68c169",
   "metadata": {},
   "outputs": [
    {
     "name": "stdout",
     "output_type": "stream",
     "text": [
      "       payment_method  Number of orders\n",
      "6                 cod            146279\n",
      "2             Payaxis             22704\n",
      "0             Easypay             19221\n",
      "8     easypay_voucher             16067\n",
      "12         jazzwallet             13248\n",
      "11        jazzvoucher              4464\n",
      "7      customercredit              4157\n",
      "1          Easypay_MA              3116\n",
      "4         bankalfalah               591\n",
      "5      cashatdoorstep               412\n",
      "14            mcblite               222\n",
      "17      ublcreditcard               176\n",
      "10    internetbanking               153\n",
      "16      productcredit                85\n",
      "3                 apg                27\n",
      "15          mygateway                14\n",
      "9   financesettlement                 9\n",
      "13   marketingexpense                 4\n"
     ]
    }
   ],
   "source": [
    "#Completed Order EDA - Payment Method\n",
    "number_of_orders_by_payments_methods = df1.groupby('payment_method').size().reset_index(name='Number of orders').sort_values('Number of orders', ascending=False)\n",
    "print(number_of_orders_by_payments_methods)"
   ]
  },
  {
   "cell_type": "code",
   "execution_count": 23,
   "id": "a21f556a",
   "metadata": {},
   "outputs": [],
   "source": [
    "data_orders_completed=df1"
   ]
  },
  {
   "cell_type": "code",
   "execution_count": 24,
   "id": "ee80fed7",
   "metadata": {},
   "outputs": [
    {
     "data": {
      "text/plain": [
       "<AxesSubplot:xlabel='payment_method', ylabel='count'>"
      ]
     },
     "execution_count": 24,
     "metadata": {},
     "output_type": "execute_result"
    },
    {
     "data": {
      "image/png": "[encoded data removed]",
      "text/plain": [
       "<Figure size 1080x576 with 1 Axes>"
      ]
     },
     "metadata": {},
     "output_type": "display_data"
    }
   ],
   "source": [
    "#Completed Order EDA - Payment Method\n",
    "# Plot the different classes\n",
    "sns.set(rc = {'figure.figsize':(15,8)})\n",
    "sns.countplot(data_orders_completed['payment_method'],order=pd.value_counts(data_orders_completed['payment_method']).iloc[:10].index)"
   ]
  },
  {
   "cell_type": "code",
   "execution_count": 25,
   "id": "cbb68c13",
   "metadata": {},
   "outputs": [
    {
     "name": "stdout",
     "output_type": "stream",
     "text": [
      "         category_name  Number of orders\n",
      "9    Mobiles & Tablets             41721\n",
      "8        Men's Fashion             40356\n",
      "14     Women's Fashion             23805\n",
      "0           Appliances             20801\n",
      "1    Beauty & Grooming             20791\n",
      "12             Soghaat             19808\n",
      "13          Superstore             16703\n",
      "6        Home & Living             11168\n",
      "4        Entertainment              9334\n",
      "5      Health & Sports              8064\n",
      "7          Kids & Baby              7030\n",
      "3            Computing              5751\n",
      "10              Others              3115\n",
      "11  School & Education              1585\n",
      "2                Books               917\n"
     ]
    }
   ],
   "source": [
    "#Completed Order EDA - Product category\n",
    "number_of_orders_by_category = data_orders_completed.groupby('category_name').size().reset_index(name='Number of orders').sort_values('Number of orders', ascending=False)\n",
    "print(number_of_orders_by_category)"
   ]
  },
  {
   "cell_type": "code",
   "execution_count": 26,
   "id": "240c6e77",
   "metadata": {},
   "outputs": [
    {
     "data": {
      "text/plain": [
       "<AxesSubplot:xlabel='category_name', ylabel='count'>"
      ]
     },
     "execution_count": 26,
     "metadata": {},
     "output_type": "execute_result"
    },
    {
     "data": {
      "image/png": "[encoded data removed]",
      "text/plain": [
       "<Figure size 1080x576 with 1 Axes>"
      ]
     },
     "metadata": {},
     "output_type": "display_data"
    }
   ],
   "source": [
    "#Completed Order EDA - Product category\n",
    "# Plot the different classes\n",
    "sns.set(rc = {'figure.figsize':(15,8)})\n",
    "sns.countplot(data_orders_completed['category_name'],order=pd.value_counts(data_orders_completed['category_name']).iloc[:10].index)"
   ]
  },
  {
   "cell_type": "code",
   "execution_count": 27,
   "id": "de529ab0",
   "metadata": {},
   "outputs": [
    {
     "data": {
      "image/png": "[encoded data removed]",
      "text/plain": [
       "<Figure size 1080x576 with 1 Axes>"
      ]
     },
     "metadata": {},
     "output_type": "display_data"
    }
   ],
   "source": [
    "# Completed Order EDA - Market Value for each Product category\n",
    "ax=sns.pointplot(y=\"market_value\", x=\"category_name\", data = data_orders_completed)\n",
    "ax.set_xticklabels(ax.get_xticklabels(), fontsize=8)\n",
    "plt.tight_layout()\n",
    "plt.show()"
   ]
  },
  {
   "cell_type": "code",
   "execution_count": 28,
   "id": "55356c9a",
   "metadata": {},
   "outputs": [
    {
     "data": {
      "image/png": "[encoded data removed]",
      "text/plain": [
       "<Figure size 1080x576 with 1 Axes>"
      ]
     },
     "metadata": {},
     "output_type": "display_data"
    }
   ],
   "source": [
    "# Completed Order EDA - Market Value for each Payment method\n",
    "ax=sns.pointplot(y=\"market_value\", x=\"payment_method\", data = data_orders_completed)\n",
    "ax.set_xticklabels(ax.get_xticklabels(), fontsize=8)\n",
    "plt.tight_layout()\n",
    "plt.show()"
   ]
  },
  {
   "cell_type": "code",
   "execution_count": 29,
   "id": "64c2c939",
   "metadata": {},
   "outputs": [],
   "source": [
    "data_orders_cancelled = df[df[\"order_status\"] == \"canceled\"]"
   ]
  },
  {
   "cell_type": "code",
   "execution_count": 30,
   "id": "593d7be1",
   "metadata": {},
   "outputs": [],
   "source": [
    "# Market value contains commas which needs to be removed so as to convert datatype from object to int/float\n",
    "#data_orders_cancelled.market_value = data_orders_cancelled.market_value.str.replace(\",\",\"\") # replacing commas with blank"
   ]
  },
  {
   "cell_type": "code",
   "execution_count": 31,
   "id": "4aea96d9",
   "metadata": {},
   "outputs": [],
   "source": [
    "#data_orders_cancelled.market_value = data_orders_cancelled.market_value.str.replace(\"-\",\"0\") # replacing - values in the DF with 0 in MV"
   ]
  },
  {
   "cell_type": "code",
   "execution_count": 32,
   "id": "79f88dfc",
   "metadata": {},
   "outputs": [],
   "source": [
    "#data_orders_cancelled.market_value =pd.to_numeric(data_orders_cancelled.market_value)"
   ]
  },
  {
   "cell_type": "code",
   "execution_count": 33,
   "id": "75a4e897",
   "metadata": {},
   "outputs": [
    {
     "name": "stdout",
     "output_type": "stream",
     "text": [
      "       payment_method  Number of orders\n",
      "2             Payaxis             60150\n",
      "0             Easypay             51869\n",
      "6                 cod             20917\n",
      "12         jazzwallet             16415\n",
      "4         bankalfalah             16179\n",
      "8     easypay_voucher             12107\n",
      "1          Easypay_MA              9147\n",
      "11        jazzvoucher              8120\n",
      "3                 apg              1361\n",
      "14          mygateway               620\n",
      "16      ublcreditcard               616\n",
      "10    internetbanking               262\n",
      "13            mcblite               167\n",
      "7      customercredit                34\n",
      "5      cashatdoorstep                 3\n",
      "15      productcredit                 2\n",
      "9   financesettlement                 1\n"
     ]
    }
   ],
   "source": [
    "# Cancelled Order EDA - order count by Payment method\n",
    "number_of_orders_by_payments_methods = data_orders_cancelled.groupby('payment_method').size().reset_index(name='Number of orders').sort_values('Number of orders', ascending=False)\n",
    "print(number_of_orders_by_payments_methods)"
   ]
  },
  {
   "cell_type": "code",
   "execution_count": 34,
   "id": "d8a122b1",
   "metadata": {},
   "outputs": [
    {
     "data": {
      "text/plain": [
       "<AxesSubplot:xlabel='payment_method', ylabel='count'>"
      ]
     },
     "execution_count": 34,
     "metadata": {},
     "output_type": "execute_result"
    },
    {
     "data": {
      "image/png": "[encoded data removed]",
      "text/plain": [
       "<Figure size 1080x576 with 1 Axes>"
      ]
     },
     "metadata": {},
     "output_type": "display_data"
    }
   ],
   "source": [
    "# Cancelled Order EDA - order count by Payment method\n",
    "# Plot the different classes\n",
    "sns.set(rc = {'figure.figsize':(15,8)})\n",
    "sns.countplot(data_orders_cancelled['payment_method'],order=pd.value_counts(data_orders_cancelled['payment_method']).iloc[:10].index)"
   ]
  },
  {
   "cell_type": "code",
   "execution_count": 35,
   "id": "36db1c6d",
   "metadata": {},
   "outputs": [
    {
     "name": "stdout",
     "output_type": "stream",
     "text": [
      "         category_name  Number of orders\n",
      "9    Mobiles & Tablets             53715\n",
      "8        Men's Fashion             22024\n",
      "0           Appliances             21628\n",
      "10              Others             18364\n",
      "14     Women's Fashion             15961\n",
      "13          Superstore             13926\n",
      "4        Entertainment             12578\n",
      "1    Beauty & Grooming              9686\n",
      "12             Soghaat              7593\n",
      "6        Home & Living              7199\n",
      "3            Computing              6811\n",
      "7          Kids & Baby              4081\n",
      "5      Health & Sports              3382\n",
      "11  School & Education               749\n",
      "2                Books               273\n"
     ]
    }
   ],
   "source": [
    "# Cancelled Order EDA - order count by Product category\n",
    "number_of_orders_by_category = data_orders_cancelled.groupby('category_name').size().reset_index(name='Number of orders').sort_values('Number of orders', ascending=False)\n",
    "print(number_of_orders_by_category)"
   ]
  },
  {
   "cell_type": "code",
   "execution_count": 36,
   "id": "5aaf1830",
   "metadata": {},
   "outputs": [
    {
     "data": {
      "text/plain": [
       "<AxesSubplot:xlabel='category_name', ylabel='count'>"
      ]
     },
     "execution_count": 36,
     "metadata": {},
     "output_type": "execute_result"
    },
    {
     "data": {
      "image/png": "[encoded data removed]",
      "text/plain": [
       "<Figure size 1080x576 with 1 Axes>"
      ]
     },
     "metadata": {},
     "output_type": "display_data"
    }
   ],
   "source": [
    "# Cancelled Order EDA - order count by Product category\n",
    "# Plot the different classes\n",
    "sns.set(rc = {'figure.figsize':(15,8)})\n",
    "sns.countplot(data_orders_cancelled['category_name'],order=pd.value_counts(data_orders_cancelled['category_name']).iloc[:10].index)"
   ]
  },
  {
   "cell_type": "code",
   "execution_count": 37,
   "id": "c6ae5a3a",
   "metadata": {},
   "outputs": [
    {
     "data": {
      "image/png": "[encoded data removed]",
      "text/plain": [
       "<Figure size 1080x576 with 1 Axes>"
      ]
     },
     "metadata": {},
     "output_type": "display_data"
    }
   ],
   "source": [
    "# Cancelled Order EDA - market value by Product category\n",
    "ax=sns.pointplot(y=\"market_value\", x=\"category_name\", data = data_orders_cancelled)\n",
    "ax.set_xticklabels(ax.get_xticklabels(), fontsize=8)\n",
    "plt.tight_layout()\n",
    "plt.show()"
   ]
  },
  {
   "cell_type": "code",
   "execution_count": 81,
   "id": "fbdf9ee5",
   "metadata": {},
   "outputs": [
    {
     "data": {
      "text/plain": [
       "2424178320"
      ]
     },
     "execution_count": 81,
     "metadata": {},
     "output_type": "execute_result"
    }
   ],
   "source": [
    "np.sum(data_orders_cancelled.market_value ==(['Mobiles']))"
   ]
  },
  {
   "cell_type": "code",
   "execution_count": 38,
   "id": "93ee7927",
   "metadata": {},
   "outputs": [
    {
     "data": {
      "image/png": "[encoded data removed]",
      "text/plain": [
       "<Figure size 1080x576 with 1 Axes>"
      ]
     },
     "metadata": {},
     "output_type": "display_data"
    }
   ],
   "source": [
    "# Cancelled Order EDA - market value by Payment Method\n",
    "ax=sns.pointplot(y=\"market_value\", x=\"payment_method\", data = data_orders_cancelled)\n",
    "ax.set_xticklabels(ax.get_xticklabels(), fontsize=8)\n",
    "plt.tight_layout()\n",
    "plt.show()"
   ]
  },
  {
   "cell_type": "code",
   "execution_count": 39,
   "id": "e500ba18",
   "metadata": {},
   "outputs": [],
   "source": [
    "# Cancelled Order EDA - Customer wise aggregation\n",
    "CustomerID=data_orders_cancelled.customer_id.unique()"
   ]
  },
  {
   "cell_type": "code",
   "execution_count": 40,
   "id": "8b5c3b7e",
   "metadata": {},
   "outputs": [
    {
     "name": "stdout",
     "output_type": "stream",
     "text": [
      "       customer_id  Number of orders\n",
      "34253        87724               685\n",
      "39041        96927               590\n",
      "14926        39707               496\n",
      "11609        26527               484\n",
      "25223        65910               421\n",
      "18221        47178               410\n",
      "4686         10654               381\n",
      "12302        28896               372\n",
      "3592          8963               352\n",
      "5245         12278               292\n",
      "5209         12179               287\n",
      "21399        56449               275\n",
      "5727         13793               257\n",
      "19565        50256               228\n",
      "5320         12535               223\n",
      "47943       113694               222\n",
      "19478        49982               222\n",
      "1839          4797               219\n",
      "22483        59331               219\n"
     ]
    }
   ],
   "source": [
    "# Cancelled Order EDA - Customer wise aggregation - No. of orders\n",
    "#Top 20 customers whose cancelled orders count is high\n",
    "CancelOrders_customer = data_orders_cancelled.groupby('customer_id').size().reset_index(name='Number of orders').sort_values('Number of orders', ascending=False)\n",
    "print(CancelOrders_customer[0:19])"
   ]
  },
  {
   "cell_type": "code",
   "execution_count": 41,
   "id": "5aca034d",
   "metadata": {},
   "outputs": [],
   "source": [
    " CancelOrders_customer = pd.DataFrame(CancelOrders_customer)#, index=['customer_id','Number of orders'])"
   ]
  },
  {
   "cell_type": "code",
   "execution_count": 42,
   "id": "f486e85e",
   "metadata": {},
   "outputs": [
    {
     "data": {
      "text/html": [
       "<div>\n",
       "<style scoped>\n",
       "    .dataframe tbody tr th:only-of-type {\n",
       "        vertical-align: middle;\n",
       "    }\n",
       "\n",
       "    .dataframe tbody tr th {\n",
       "        vertical-align: top;\n",
       "    }\n",
       "\n",
       "    .dataframe thead th {\n",
       "        text-align: right;\n",
       "    }\n",
       "</style>\n",
       "<table border=\"1\" class=\"dataframe\">\n",
       "  <thead>\n",
       "    <tr style=\"text-align: right;\">\n",
       "      <th></th>\n",
       "      <th>customer_id</th>\n",
       "      <th>Number of orders</th>\n",
       "    </tr>\n",
       "  </thead>\n",
       "  <tbody>\n",
       "    <tr>\n",
       "      <th>34253</th>\n",
       "      <td>87724</td>\n",
       "      <td>685</td>\n",
       "    </tr>\n",
       "    <tr>\n",
       "      <th>39041</th>\n",
       "      <td>96927</td>\n",
       "      <td>590</td>\n",
       "    </tr>\n",
       "    <tr>\n",
       "      <th>14926</th>\n",
       "      <td>39707</td>\n",
       "      <td>496</td>\n",
       "    </tr>\n",
       "    <tr>\n",
       "      <th>11609</th>\n",
       "      <td>26527</td>\n",
       "      <td>484</td>\n",
       "    </tr>\n",
       "    <tr>\n",
       "      <th>25223</th>\n",
       "      <td>65910</td>\n",
       "      <td>421</td>\n",
       "    </tr>\n",
       "  </tbody>\n",
       "</table>\n",
       "</div>"
      ],
      "text/plain": [
       "       customer_id  Number of orders\n",
       "34253        87724               685\n",
       "39041        96927               590\n",
       "14926        39707               496\n",
       "11609        26527               484\n",
       "25223        65910               421"
      ]
     },
     "execution_count": 42,
     "metadata": {},
     "output_type": "execute_result"
    }
   ],
   "source": [
    "CancelOrders_customer.head()"
   ]
  },
  {
   "cell_type": "code",
   "execution_count": 43,
   "id": "66e6f525",
   "metadata": {},
   "outputs": [
    {
     "name": "stdout",
     "output_type": "stream",
     "text": [
      "customer_id\n",
      "2         510\n",
      "3        2450\n",
      "4      866207\n",
      "6          80\n",
      "8      192998\n",
      "11       3500\n",
      "13      16715\n",
      "14       2118\n",
      "15        395\n",
      "16     346552\n",
      "18       3000\n",
      "20    1829144\n",
      "21     141747\n",
      "22        940\n",
      "23       3350\n",
      "25      11000\n",
      "27       6152\n",
      "28      46248\n",
      "29        350\n",
      "Name: market_value, dtype: int64\n"
     ]
    }
   ],
   "source": [
    "# Cancelled Order EDA - Customer wise aggregation - sum of market value\n",
    "CancelOrders_customerval = data_orders_cancelled.groupby('customer_id').aggregate('sum')['market_value']\n",
    "print(CancelOrders_customerval[0:19])"
   ]
  },
  {
   "cell_type": "code",
   "execution_count": 44,
   "id": "b0e294b5",
   "metadata": {},
   "outputs": [],
   "source": [
    "# Cancelled Order EDA - Customer wise aggregation - sum of market value\n",
    "CancelOrders_customerval = pd.DataFrame(CancelOrders_customerval)\n",
    "CancelOrders_customerval.columns=['TotalMV_cancelled']\n",
    "CancelOrders_customerval = CancelOrders_customerval.reset_index()"
   ]
  },
  {
   "cell_type": "code",
   "execution_count": 45,
   "id": "08acbf7d",
   "metadata": {},
   "outputs": [
    {
     "data": {
      "text/html": [
       "<div>\n",
       "<style scoped>\n",
       "    .dataframe tbody tr th:only-of-type {\n",
       "        vertical-align: middle;\n",
       "    }\n",
       "\n",
       "    .dataframe tbody tr th {\n",
       "        vertical-align: top;\n",
       "    }\n",
       "\n",
       "    .dataframe thead th {\n",
       "        text-align: right;\n",
       "    }\n",
       "</style>\n",
       "<table border=\"1\" class=\"dataframe\">\n",
       "  <thead>\n",
       "    <tr style=\"text-align: right;\">\n",
       "      <th></th>\n",
       "      <th>customer_id</th>\n",
       "      <th>TotalMV_cancelled</th>\n",
       "    </tr>\n",
       "  </thead>\n",
       "  <tbody>\n",
       "    <tr>\n",
       "      <th>0</th>\n",
       "      <td>2</td>\n",
       "      <td>510</td>\n",
       "    </tr>\n",
       "    <tr>\n",
       "      <th>1</th>\n",
       "      <td>3</td>\n",
       "      <td>2450</td>\n",
       "    </tr>\n",
       "    <tr>\n",
       "      <th>2</th>\n",
       "      <td>4</td>\n",
       "      <td>866207</td>\n",
       "    </tr>\n",
       "    <tr>\n",
       "      <th>3</th>\n",
       "      <td>6</td>\n",
       "      <td>80</td>\n",
       "    </tr>\n",
       "    <tr>\n",
       "      <th>4</th>\n",
       "      <td>8</td>\n",
       "      <td>192998</td>\n",
       "    </tr>\n",
       "  </tbody>\n",
       "</table>\n",
       "</div>"
      ],
      "text/plain": [
       "   customer_id  TotalMV_cancelled\n",
       "0            2                510\n",
       "1            3               2450\n",
       "2            4             866207\n",
       "3            6                 80\n",
       "4            8             192998"
      ]
     },
     "execution_count": 45,
     "metadata": {},
     "output_type": "execute_result"
    }
   ],
   "source": [
    "CancelOrders_customerval.head()"
   ]
  },
  {
   "cell_type": "code",
   "execution_count": 46,
   "id": "a565a465",
   "metadata": {},
   "outputs": [
    {
     "data": {
      "text/html": [
       "<div>\n",
       "<style scoped>\n",
       "    .dataframe tbody tr th:only-of-type {\n",
       "        vertical-align: middle;\n",
       "    }\n",
       "\n",
       "    .dataframe tbody tr th {\n",
       "        vertical-align: top;\n",
       "    }\n",
       "\n",
       "    .dataframe thead th {\n",
       "        text-align: right;\n",
       "    }\n",
       "</style>\n",
       "<table border=\"1\" class=\"dataframe\">\n",
       "  <thead>\n",
       "    <tr style=\"text-align: right;\">\n",
       "      <th></th>\n",
       "      <th>customer_id</th>\n",
       "      <th>TotalMV_cancelled</th>\n",
       "    </tr>\n",
       "  </thead>\n",
       "  <tbody>\n",
       "    <tr>\n",
       "      <th>1913</th>\n",
       "      <td>5032</td>\n",
       "      <td>35839398</td>\n",
       "    </tr>\n",
       "    <tr>\n",
       "      <th>47943</th>\n",
       "      <td>113694</td>\n",
       "      <td>16153539</td>\n",
       "    </tr>\n",
       "    <tr>\n",
       "      <th>14926</th>\n",
       "      <td>39707</td>\n",
       "      <td>15627178</td>\n",
       "    </tr>\n",
       "    <tr>\n",
       "      <th>45993</th>\n",
       "      <td>109038</td>\n",
       "      <td>15425807</td>\n",
       "    </tr>\n",
       "    <tr>\n",
       "      <th>4686</th>\n",
       "      <td>10654</td>\n",
       "      <td>14426633</td>\n",
       "    </tr>\n",
       "    <tr>\n",
       "      <th>...</th>\n",
       "      <td>...</td>\n",
       "      <td>...</td>\n",
       "    </tr>\n",
       "    <tr>\n",
       "      <th>46682</th>\n",
       "      <td>110632</td>\n",
       "      <td>2160382</td>\n",
       "    </tr>\n",
       "    <tr>\n",
       "      <th>12610</th>\n",
       "      <td>30310</td>\n",
       "      <td>2147944</td>\n",
       "    </tr>\n",
       "    <tr>\n",
       "      <th>46030</th>\n",
       "      <td>109127</td>\n",
       "      <td>2133779</td>\n",
       "    </tr>\n",
       "    <tr>\n",
       "      <th>12196</th>\n",
       "      <td>28462</td>\n",
       "      <td>2096942</td>\n",
       "    </tr>\n",
       "    <tr>\n",
       "      <th>4743</th>\n",
       "      <td>10812</td>\n",
       "      <td>2072534</td>\n",
       "    </tr>\n",
       "  </tbody>\n",
       "</table>\n",
       "<p>100 rows × 2 columns</p>\n",
       "</div>"
      ],
      "text/plain": [
       "       customer_id  TotalMV_cancelled\n",
       "1913          5032           35839398\n",
       "47943       113694           16153539\n",
       "14926        39707           15627178\n",
       "45993       109038           15425807\n",
       "4686         10654           14426633\n",
       "...            ...                ...\n",
       "46682       110632            2160382\n",
       "12610        30310            2147944\n",
       "46030       109127            2133779\n",
       "12196        28462            2096942\n",
       "4743         10812            2072534\n",
       "\n",
       "[100 rows x 2 columns]"
      ]
     },
     "execution_count": 46,
     "metadata": {},
     "output_type": "execute_result"
    }
   ],
   "source": [
    "#Top 20 customers whose cancelled orders Market value is high\n",
    "Top100MV=CancelOrders_customerval.sort_values('TotalMV_cancelled', ascending=False)[0:100]\n",
    "Top100MV"
   ]
  },
  {
   "cell_type": "code",
   "execution_count": 47,
   "id": "2f4447e5",
   "metadata": {},
   "outputs": [
    {
     "data": {
      "text/plain": [
       "20.27"
      ]
     },
     "execution_count": 47,
     "metadata": {},
     "output_type": "execute_result"
    }
   ],
   "source": [
    "top100MV_Percent=round((sum(Top100MV.TotalMV_cancelled)/sum(CancelOrders_customerval.TotalMV_cancelled))*100,2)\n",
    "top100MV_Percent"
   ]
  },
  {
   "cell_type": "code",
   "execution_count": 48,
   "id": "e317e60a",
   "metadata": {},
   "outputs": [
    {
     "data": {
      "text/plain": [
       "2424178320"
      ]
     },
     "execution_count": 48,
     "metadata": {},
     "output_type": "execute_result"
    }
   ],
   "source": [
    "sum(CancelOrders_customerval.TotalMV_cancelled)"
   ]
  },
  {
   "cell_type": "code",
   "execution_count": 49,
   "id": "329fc35a",
   "metadata": {},
   "outputs": [
    {
     "data": {
      "text/plain": [
       "491437064"
      ]
     },
     "execution_count": 49,
     "metadata": {},
     "output_type": "execute_result"
    }
   ],
   "source": [
    "sum(Top100MV.TotalMV_cancelled)"
   ]
  },
  {
   "cell_type": "code",
   "execution_count": 50,
   "id": "31c1defb",
   "metadata": {},
   "outputs": [],
   "source": [
    "#Out of 48K unique customers, there are 100 customers whose cancelled orders value contribute to 20% of total cancelled order value.\n",
    "#Business can focus on understanding the needs of these customers and convert them to business realized"
   ]
  },
  {
   "cell_type": "code",
   "execution_count": 51,
   "id": "01df58de",
   "metadata": {},
   "outputs": [],
   "source": [
    "data_orders_refund = df[df[\"order_status\"] == \"refund\"]"
   ]
  },
  {
   "cell_type": "code",
   "execution_count": 52,
   "id": "2cd49d32",
   "metadata": {},
   "outputs": [],
   "source": [
    "# Market value contains commas which needs to be removed so as to convert datatype from object to int/float\n",
    "#data_orders_refund.market_value = data_orders_refund.market_value.str.replace(\",\",\"\") # replacing commas with blank\n",
    "#data_orders_refund.market_value = data_orders_refund.market_value.str.replace(\"-\",\"0\") # replacing - values in the DF with 0 in MV\n",
    "#data_orders_refund.market_value =pd.to_numeric(data_orders_refund.market_value)"
   ]
  },
  {
   "cell_type": "code",
   "execution_count": 53,
   "id": "07a5d31f",
   "metadata": {},
   "outputs": [
    {
     "name": "stdout",
     "output_type": "stream",
     "text": [
      "       payment_method  Number of orders\n",
      "6                 cod            100533\n",
      "2             Payaxis             13363\n",
      "0             Easypay             11591\n",
      "4         bankalfalah              6207\n",
      "12         jazzwallet              4650\n",
      "7      customercredit              3315\n",
      "8     easypay_voucher              2876\n",
      "11        jazzvoucher              2506\n",
      "1          Easypay_MA              1682\n",
      "3                 apg               370\n",
      "14            mcblite               144\n",
      "5      cashatdoorstep                49\n",
      "17      ublcreditcard                33\n",
      "10    internetbanking                25\n",
      "16      productcredit                24\n",
      "9   financesettlement                 5\n",
      "13   marketingexpense                 2\n",
      "15          mygateway                 1\n"
     ]
    }
   ],
   "source": [
    "#Refund Order EDA - Payment Method\n",
    "number_of_orders_by_payments_methods = data_orders_refund.groupby('payment_method').size().reset_index(name='Number of orders').sort_values('Number of orders', ascending=False)\n",
    "print(number_of_orders_by_payments_methods)"
   ]
  },
  {
   "cell_type": "code",
   "execution_count": 54,
   "id": "20f57286",
   "metadata": {},
   "outputs": [
    {
     "data": {
      "text/plain": [
       "<AxesSubplot:xlabel='payment_method', ylabel='count'>"
      ]
     },
     "execution_count": 54,
     "metadata": {},
     "output_type": "execute_result"
    },
    {
     "data": {
      "image/png": "[encoded data removed]",
      "text/plain": [
       "<Figure size 1080x576 with 1 Axes>"
      ]
     },
     "metadata": {},
     "output_type": "display_data"
    }
   ],
   "source": [
    "#Refund Order EDA - Payment Method\n",
    "# Plot the different classes\n",
    "sns.set(rc = {'figure.figsize':(15,8)})\n",
    "sns.countplot(data_orders_refund['payment_method'],order=pd.value_counts(data_orders_refund['payment_method']).iloc[:10].index)"
   ]
  },
  {
   "cell_type": "code",
   "execution_count": 55,
   "id": "813c7583",
   "metadata": {},
   "outputs": [
    {
     "name": "stdout",
     "output_type": "stream",
     "text": [
      "         category_name  Number of orders\n",
      "8        Men's Fashion             29804\n",
      "9    Mobiles & Tablets             20231\n",
      "14     Women's Fashion             19946\n",
      "13          Superstore             12953\n",
      "1    Beauty & Grooming             11010\n",
      "0           Appliances              9968\n",
      "6        Home & Living              8131\n",
      "10              Others              7725\n",
      "12             Soghaat              6597\n",
      "5      Health & Sports              6050\n",
      "7          Kids & Baby              5378\n",
      "4        Entertainment              4394\n",
      "3            Computing              3366\n",
      "11  School & Education              1143\n",
      "2                Books               680\n"
     ]
    }
   ],
   "source": [
    "#Refund Order EDA - Product category\n",
    "number_of_orders_by_category = data_orders_refund.groupby('category_name').size().reset_index(name='Number of orders').sort_values('Number of orders', ascending=False)\n",
    "print(number_of_orders_by_category)"
   ]
  },
  {
   "cell_type": "code",
   "execution_count": 56,
   "id": "b98209fa",
   "metadata": {},
   "outputs": [
    {
     "data": {
      "text/plain": [
       "<AxesSubplot:xlabel='category_name', ylabel='count'>"
      ]
     },
     "execution_count": 56,
     "metadata": {},
     "output_type": "execute_result"
    },
    {
     "data": {
      "image/png": "[encoded data removed]",
      "text/plain": [
       "<Figure size 1080x576 with 1 Axes>"
      ]
     },
     "metadata": {},
     "output_type": "display_data"
    }
   ],
   "source": [
    "#Refund Order EDA - Product category\n",
    "# Plot the different classes\n",
    "sns.set(rc = {'figure.figsize':(15,8)})\n",
    "sns.countplot(data_orders_refund['category_name'],order=pd.value_counts(data_orders_completed['category_name']).iloc[:10].index)"
   ]
  },
  {
   "cell_type": "code",
   "execution_count": 57,
   "id": "e904e63b",
   "metadata": {},
   "outputs": [
    {
     "data": {
      "image/png": "[encoded data removed]",
      "text/plain": [
       "<Figure size 1080x576 with 1 Axes>"
      ]
     },
     "metadata": {},
     "output_type": "display_data"
    }
   ],
   "source": [
    "# Refund Order EDA - market value by Product category\n",
    "ax=sns.pointplot(y=\"market_value\", x=\"category_name\", data = data_orders_refund)\n",
    "ax.set_xticklabels(ax.get_xticklabels(), fontsize=8)\n",
    "plt.tight_layout()\n",
    "plt.show()"
   ]
  },
  {
   "cell_type": "code",
   "execution_count": 58,
   "id": "9fd2074c",
   "metadata": {},
   "outputs": [
    {
     "name": "stdout",
     "output_type": "stream",
     "text": [
      "<class 'pandas.core.frame.DataFrame'>\n",
      "Int64Index: 230949 entries, 0 to 576480\n",
      "Data columns (total 22 columns):\n",
      " #   Column              Non-Null Count   Dtype  \n",
      "---  ------              --------------   -----  \n",
      " 0   item_id             230949 non-null  int64  \n",
      " 1   status              230949 non-null  object \n",
      " 2   order_date          230949 non-null  object \n",
      " 3   item_description    230949 non-null  object \n",
      " 4   price               230949 non-null  float64\n",
      " 5   qty_ordered         230949 non-null  int64  \n",
      " 6   order_amount        230949 non-null  float64\n",
      " 7   order_id            230949 non-null  object \n",
      " 8   category_name       230949 non-null  object \n",
      " 9   discount_amount     230949 non-null  float64\n",
      " 10  payment_method      230949 non-null  object \n",
      " 11  working_date        230949 non-null  object \n",
      " 12  BI Status           230949 non-null  object \n",
      " 13  market_value        230949 non-null  int64  \n",
      " 14  Year                230949 non-null  int64  \n",
      " 15  Month               230949 non-null  int64  \n",
      " 16  customer_since      230949 non-null  object \n",
      " 17  M-Y                 230949 non-null  object \n",
      " 18  FY                  230949 non-null  int64  \n",
      " 19  customer_id         230949 non-null  int64  \n",
      " 20  order_status        230949 non-null  object \n",
      " 21  final_order_amount  230949 non-null  float64\n",
      "dtypes: float64(4), int64(7), object(11)\n",
      "memory usage: 48.6+ MB\n"
     ]
    }
   ],
   "source": [
    "# Completed Orders data\n",
    "df1.info()"
   ]
  },
  {
   "cell_type": "code",
   "execution_count": 59,
   "id": "e1f4b193",
   "metadata": {},
   "outputs": [],
   "source": [
    "from datetime import datetime, timedelta,date\n",
    "df1['order_date'] = pd.to_datetime(df1['order_date'])"
   ]
  },
  {
   "cell_type": "code",
   "execution_count": 60,
   "id": "ed88bf9b",
   "metadata": {},
   "outputs": [],
   "source": [
    "df_1styr = df1[(df1.order_date < datetime(2017,6,30)) & (df1.order_date >= datetime(2016,7,1))].reset_index(drop=True)\n",
    "df_2ndyr = df1[(df1.order_date < datetime(2018,6,30)) & (df1.order_date >= datetime(2017,7,1))].reset_index(drop=True)"
   ]
  },
  {
   "cell_type": "code",
   "execution_count": 61,
   "id": "b1aa7460",
   "metadata": {},
   "outputs": [],
   "source": [
    "df_1styr = df_1styr.sort_values(by='customer_id')"
   ]
  },
  {
   "cell_type": "markdown",
   "id": "61acd7e6",
   "metadata": {},
   "source": [
    "# Recency\n",
    "## To calculate the Recency we will follow the steps below:\n",
    "\n",
    "### Convert the Working Date column to datetime format\n",
    "### Set the reference date as the lastest date in the data\n",
    "### Filter out the most recent purchase date for each customer\n",
    "### Calculate the Recency by subtracting most recent purchase date from the reference date"
   ]
  },
  {
   "cell_type": "code",
   "execution_count": 62,
   "id": "fd7570e2",
   "metadata": {},
   "outputs": [],
   "source": [
    "df_1styr['order_date'] = pd.to_datetime(df_1styr['order_date'])\n",
    "#Last transaction date \n",
    "ref_date = df_1styr['order_date'].max()\n",
    "df_1styr['Date'] = df_1styr['order_date'].apply(lambda x: x.date())\n",
    "df_1styr['Most_Recent_Purchase'] = df_1styr.groupby('customer_id')['Date'].transform(max)\n",
    "df_1styr['Recency'] = (ref_date.date() - df_1styr.Most_Recent_Purchase).astype('timedelta64[D]')"
   ]
  },
  {
   "cell_type": "code",
   "execution_count": 63,
   "id": "c0e6f6a9",
   "metadata": {},
   "outputs": [],
   "source": [
    "#df_1styr['Recency'] = df_1styr['Recency']/365"
   ]
  },
  {
   "cell_type": "markdown",
   "id": "4d9b6efb",
   "metadata": {},
   "source": [
    "## Frequency"
   ]
  },
  {
   "cell_type": "code",
   "execution_count": 64,
   "id": "d4ccd806",
   "metadata": {},
   "outputs": [],
   "source": [
    "df_1styr['Frequency'] = df_1styr.groupby('customer_id')['order_id'].transform('nunique')"
   ]
  },
  {
   "cell_type": "markdown",
   "id": "228dd638",
   "metadata": {},
   "source": [
    "## Monetary"
   ]
  },
  {
   "cell_type": "code",
   "execution_count": 65,
   "id": "e6f9423d",
   "metadata": {},
   "outputs": [],
   "source": [
    "df_1styr['Monetary'] = df_1styr.groupby('customer_id')['final_order_amount'].transform(sum)"
   ]
  },
  {
   "cell_type": "code",
   "execution_count": 66,
   "id": "4f131b51",
   "metadata": {},
   "outputs": [
    {
     "data": {
      "text/html": [
       "<div>\n",
       "<style scoped>\n",
       "    .dataframe tbody tr th:only-of-type {\n",
       "        vertical-align: middle;\n",
       "    }\n",
       "\n",
       "    .dataframe tbody tr th {\n",
       "        vertical-align: top;\n",
       "    }\n",
       "\n",
       "    .dataframe thead th {\n",
       "        text-align: right;\n",
       "    }\n",
       "</style>\n",
       "<table border=\"1\" class=\"dataframe\">\n",
       "  <thead>\n",
       "    <tr style=\"text-align: right;\">\n",
       "      <th></th>\n",
       "      <th>item_id</th>\n",
       "      <th>status</th>\n",
       "      <th>order_date</th>\n",
       "      <th>item_description</th>\n",
       "      <th>price</th>\n",
       "      <th>qty_ordered</th>\n",
       "      <th>order_amount</th>\n",
       "      <th>order_id</th>\n",
       "      <th>category_name</th>\n",
       "      <th>discount_amount</th>\n",
       "      <th>...</th>\n",
       "      <th>M-Y</th>\n",
       "      <th>FY</th>\n",
       "      <th>customer_id</th>\n",
       "      <th>order_status</th>\n",
       "      <th>final_order_amount</th>\n",
       "      <th>Date</th>\n",
       "      <th>Most_Recent_Purchase</th>\n",
       "      <th>Recency</th>\n",
       "      <th>Frequency</th>\n",
       "      <th>Monetary</th>\n",
       "    </tr>\n",
       "  </thead>\n",
       "  <tbody>\n",
       "    <tr>\n",
       "      <th>1</th>\n",
       "      <td>211131</td>\n",
       "      <td>complete</td>\n",
       "      <td>2016-07-01</td>\n",
       "      <td>kreations_YI 06-L</td>\n",
       "      <td>1950.0</td>\n",
       "      <td>1</td>\n",
       "      <td>1950.0</td>\n",
       "      <td>100147443</td>\n",
       "      <td>Women's Fashion</td>\n",
       "      <td>0.0</td>\n",
       "      <td>...</td>\n",
       "      <td>7/1/16</td>\n",
       "      <td>2017</td>\n",
       "      <td>1</td>\n",
       "      <td>completed</td>\n",
       "      <td>1950.0</td>\n",
       "      <td>2016-07-01</td>\n",
       "      <td>2016-07-01</td>\n",
       "      <td>363.0</td>\n",
       "      <td>1</td>\n",
       "      <td>1950.0</td>\n",
       "    </tr>\n",
       "    <tr>\n",
       "      <th>112160</th>\n",
       "      <td>473369</td>\n",
       "      <td>complete</td>\n",
       "      <td>2017-05-19</td>\n",
       "      <td>BT_BT-422</td>\n",
       "      <td>530.0</td>\n",
       "      <td>1</td>\n",
       "      <td>1245.0</td>\n",
       "      <td>100306394</td>\n",
       "      <td>Men's Fashion</td>\n",
       "      <td>0.0</td>\n",
       "      <td>...</td>\n",
       "      <td>5/1/17</td>\n",
       "      <td>2017</td>\n",
       "      <td>3</td>\n",
       "      <td>completed</td>\n",
       "      <td>530.0</td>\n",
       "      <td>2017-05-19</td>\n",
       "      <td>2017-05-19</td>\n",
       "      <td>41.0</td>\n",
       "      <td>1</td>\n",
       "      <td>1245.0</td>\n",
       "    </tr>\n",
       "    <tr>\n",
       "      <th>112161</th>\n",
       "      <td>473370</td>\n",
       "      <td>complete</td>\n",
       "      <td>2017-05-19</td>\n",
       "      <td>ALHAMRA_US-0961-K</td>\n",
       "      <td>299.0</td>\n",
       "      <td>1</td>\n",
       "      <td>1245.0</td>\n",
       "      <td>100306394</td>\n",
       "      <td>Men's Fashion</td>\n",
       "      <td>0.0</td>\n",
       "      <td>...</td>\n",
       "      <td>5/1/17</td>\n",
       "      <td>2017</td>\n",
       "      <td>3</td>\n",
       "      <td>completed</td>\n",
       "      <td>299.0</td>\n",
       "      <td>2017-05-19</td>\n",
       "      <td>2017-05-19</td>\n",
       "      <td>41.0</td>\n",
       "      <td>1</td>\n",
       "      <td>1245.0</td>\n",
       "    </tr>\n",
       "    <tr>\n",
       "      <th>112162</th>\n",
       "      <td>473371</td>\n",
       "      <td>complete</td>\n",
       "      <td>2017-05-19</td>\n",
       "      <td>e-seller_7</td>\n",
       "      <td>66.0</td>\n",
       "      <td>1</td>\n",
       "      <td>1245.0</td>\n",
       "      <td>100306394</td>\n",
       "      <td>Mobiles &amp; Tablets</td>\n",
       "      <td>0.0</td>\n",
       "      <td>...</td>\n",
       "      <td>5/1/17</td>\n",
       "      <td>2017</td>\n",
       "      <td>3</td>\n",
       "      <td>completed</td>\n",
       "      <td>66.0</td>\n",
       "      <td>2017-05-19</td>\n",
       "      <td>2017-05-19</td>\n",
       "      <td>41.0</td>\n",
       "      <td>1</td>\n",
       "      <td>1245.0</td>\n",
       "    </tr>\n",
       "    <tr>\n",
       "      <th>112163</th>\n",
       "      <td>473372</td>\n",
       "      <td>complete</td>\n",
       "      <td>2017-05-19</td>\n",
       "      <td>BD_BIG DEAL_16</td>\n",
       "      <td>350.0</td>\n",
       "      <td>1</td>\n",
       "      <td>1245.0</td>\n",
       "      <td>100306394</td>\n",
       "      <td>Mobiles &amp; Tablets</td>\n",
       "      <td>0.0</td>\n",
       "      <td>...</td>\n",
       "      <td>5/1/17</td>\n",
       "      <td>2017</td>\n",
       "      <td>3</td>\n",
       "      <td>completed</td>\n",
       "      <td>350.0</td>\n",
       "      <td>2017-05-19</td>\n",
       "      <td>2017-05-19</td>\n",
       "      <td>41.0</td>\n",
       "      <td>1</td>\n",
       "      <td>1245.0</td>\n",
       "    </tr>\n",
       "  </tbody>\n",
       "</table>\n",
       "<p>5 rows × 27 columns</p>\n",
       "</div>"
      ],
      "text/plain": [
       "        item_id    status order_date   item_description   price  qty_ordered  \\\n",
       "1        211131  complete 2016-07-01  kreations_YI 06-L  1950.0            1   \n",
       "112160   473369  complete 2017-05-19          BT_BT-422   530.0            1   \n",
       "112161   473370  complete 2017-05-19  ALHAMRA_US-0961-K   299.0            1   \n",
       "112162   473371  complete 2017-05-19         e-seller_7    66.0            1   \n",
       "112163   473372  complete 2017-05-19     BD_BIG DEAL_16   350.0            1   \n",
       "\n",
       "        order_amount   order_id      category_name  discount_amount  ...  \\\n",
       "1             1950.0  100147443    Women's Fashion              0.0  ...   \n",
       "112160        1245.0  100306394      Men's Fashion              0.0  ...   \n",
       "112161        1245.0  100306394      Men's Fashion              0.0  ...   \n",
       "112162        1245.0  100306394  Mobiles & Tablets              0.0  ...   \n",
       "112163        1245.0  100306394  Mobiles & Tablets              0.0  ...   \n",
       "\n",
       "           M-Y    FY customer_id  order_status  final_order_amount  \\\n",
       "1       7/1/16  2017           1     completed              1950.0   \n",
       "112160  5/1/17  2017           3     completed               530.0   \n",
       "112161  5/1/17  2017           3     completed               299.0   \n",
       "112162  5/1/17  2017           3     completed                66.0   \n",
       "112163  5/1/17  2017           3     completed               350.0   \n",
       "\n",
       "              Date Most_Recent_Purchase Recency  Frequency  Monetary  \n",
       "1       2016-07-01           2016-07-01   363.0          1    1950.0  \n",
       "112160  2017-05-19           2017-05-19    41.0          1    1245.0  \n",
       "112161  2017-05-19           2017-05-19    41.0          1    1245.0  \n",
       "112162  2017-05-19           2017-05-19    41.0          1    1245.0  \n",
       "112163  2017-05-19           2017-05-19    41.0          1    1245.0  \n",
       "\n",
       "[5 rows x 27 columns]"
      ]
     },
     "execution_count": 66,
     "metadata": {},
     "output_type": "execute_result"
    }
   ],
   "source": [
    "df_1styr.head()"
   ]
  },
  {
   "cell_type": "code",
   "execution_count": 67,
   "id": "27e2af6c",
   "metadata": {},
   "outputs": [],
   "source": [
    "df_rfm = df_1styr[['customer_id','Recency','Frequency','Monetary']]"
   ]
  },
  {
   "cell_type": "code",
   "execution_count": 68,
   "id": "3b3f2538",
   "metadata": {},
   "outputs": [
    {
     "data": {
      "text/html": [
       "<div>\n",
       "<style scoped>\n",
       "    .dataframe tbody tr th:only-of-type {\n",
       "        vertical-align: middle;\n",
       "    }\n",
       "\n",
       "    .dataframe tbody tr th {\n",
       "        vertical-align: top;\n",
       "    }\n",
       "\n",
       "    .dataframe thead th {\n",
       "        text-align: right;\n",
       "    }\n",
       "</style>\n",
       "<table border=\"1\" class=\"dataframe\">\n",
       "  <thead>\n",
       "    <tr style=\"text-align: right;\">\n",
       "      <th></th>\n",
       "      <th>customer_id</th>\n",
       "      <th>Recency</th>\n",
       "      <th>Frequency</th>\n",
       "      <th>Monetary</th>\n",
       "    </tr>\n",
       "  </thead>\n",
       "  <tbody>\n",
       "    <tr>\n",
       "      <th>1</th>\n",
       "      <td>1</td>\n",
       "      <td>363.0</td>\n",
       "      <td>1</td>\n",
       "      <td>1950.0</td>\n",
       "    </tr>\n",
       "    <tr>\n",
       "      <th>112160</th>\n",
       "      <td>3</td>\n",
       "      <td>41.0</td>\n",
       "      <td>1</td>\n",
       "      <td>1245.0</td>\n",
       "    </tr>\n",
       "    <tr>\n",
       "      <th>112161</th>\n",
       "      <td>3</td>\n",
       "      <td>41.0</td>\n",
       "      <td>1</td>\n",
       "      <td>1245.0</td>\n",
       "    </tr>\n",
       "    <tr>\n",
       "      <th>112162</th>\n",
       "      <td>3</td>\n",
       "      <td>41.0</td>\n",
       "      <td>1</td>\n",
       "      <td>1245.0</td>\n",
       "    </tr>\n",
       "    <tr>\n",
       "      <th>112163</th>\n",
       "      <td>3</td>\n",
       "      <td>41.0</td>\n",
       "      <td>1</td>\n",
       "      <td>1245.0</td>\n",
       "    </tr>\n",
       "  </tbody>\n",
       "</table>\n",
       "</div>"
      ],
      "text/plain": [
       "        customer_id  Recency  Frequency  Monetary\n",
       "1                 1    363.0          1    1950.0\n",
       "112160            3     41.0          1    1245.0\n",
       "112161            3     41.0          1    1245.0\n",
       "112162            3     41.0          1    1245.0\n",
       "112163            3     41.0          1    1245.0"
      ]
     },
     "execution_count": 68,
     "metadata": {},
     "output_type": "execute_result"
    }
   ],
   "source": [
    "df_rfm.head()"
   ]
  },
  {
   "cell_type": "code",
   "execution_count": 69,
   "id": "c1809786",
   "metadata": {},
   "outputs": [],
   "source": [
    "df_rfm = df_rfm.drop_duplicates()"
   ]
  },
  {
   "cell_type": "code",
   "execution_count": 70,
   "id": "e69c2af7",
   "metadata": {},
   "outputs": [
    {
     "data": {
      "text/plain": [
       "(35420, 4)"
      ]
     },
     "execution_count": 70,
     "metadata": {},
     "output_type": "execute_result"
    }
   ],
   "source": [
    "df_rfm.shape"
   ]
  },
  {
   "cell_type": "markdown",
   "id": "c4e6cc95",
   "metadata": {},
   "source": [
    "## Clustering"
   ]
  },
  {
   "cell_type": "code",
   "execution_count": 71,
   "id": "d233ec95",
   "metadata": {},
   "outputs": [],
   "source": [
    "RFM_quantiles = df_rfm[['Recency', 'Frequency', 'Monetary']].quantile(q = [0.25, 0.5, 0.75])"
   ]
  },
  {
   "cell_type": "code",
   "execution_count": 72,
   "id": "0d78cb17",
   "metadata": {},
   "outputs": [],
   "source": [
    "df_rfm.loc[(df_rfm['Recency'] <= RFM_quantiles.Recency[0.25]), 'Rscore'] = 4.0\n",
    "df_rfm.loc[(df_rfm['Recency'] > RFM_quantiles.Recency[0.25]) & (df_rfm.Recency <= RFM_quantiles.Recency[0.5]), 'Rscore'] = 3.0\n",
    "df_rfm.loc[(df_rfm['Recency'] > RFM_quantiles.Recency[0.5]) & (df_rfm.Recency <= RFM_quantiles.Recency[0.75]), 'Rscore'] = 2.0\n",
    "df_rfm.loc[(df_rfm['Recency'] > RFM_quantiles.Recency[0.75]), 'Rscore'] = 1.0\n",
    "df_rfm.loc[(df_rfm['Frequency'] <= RFM_quantiles.Frequency[0.25]), 'Fscore'] = 1.0\n",
    "df_rfm.loc[(df_rfm['Frequency'] > RFM_quantiles.Frequency[0.25]) & (df_rfm['Frequency'] <= RFM_quantiles.Frequency[0.5]), 'Fscore'] = 2.0\n",
    "df_rfm.loc[(df_rfm['Frequency'] > RFM_quantiles.Frequency[0.5]) & (df_rfm['Frequency'] <= RFM_quantiles.Frequency[0.75]), 'Fscore'] = 3.0\n",
    "df_rfm.loc[(df_rfm['Frequency'] > RFM_quantiles.Frequency[0.75]), 'Fscore'] = 4.0\n",
    "df_rfm.loc[(df_rfm['Monetary'] <= RFM_quantiles.Monetary[0.25]), 'Mscore'] = 1.0\n",
    "df_rfm.loc[(df_rfm['Monetary'] > RFM_quantiles.Monetary[0.25]) & (df_rfm['Monetary'] <= RFM_quantiles.Monetary[0.5]), 'Mscore'] = 2.0\n",
    "df_rfm.loc[(df_rfm['Monetary'] > RFM_quantiles.Monetary[0.5]) & (df_rfm['Monetary'] <= RFM_quantiles.Monetary[0.75]), 'Mscore'] = 3.0\n",
    "df_rfm.loc[(df_rfm['Monetary'] > RFM_quantiles.Monetary[0.75]), 'Mscore'] = 4.0\n",
    "\n",
    "df_rfm['RFM_score'] = df_rfm.Rscore + df_rfm.Fscore + df_rfm.Mscore\n"
   ]
  },
  {
   "cell_type": "code",
   "execution_count": 73,
   "id": "a38e595f",
   "metadata": {},
   "outputs": [
    {
     "data": {
      "text/html": [
       "<div>\n",
       "<style scoped>\n",
       "    .dataframe tbody tr th:only-of-type {\n",
       "        vertical-align: middle;\n",
       "    }\n",
       "\n",
       "    .dataframe tbody tr th {\n",
       "        vertical-align: top;\n",
       "    }\n",
       "\n",
       "    .dataframe thead th {\n",
       "        text-align: right;\n",
       "    }\n",
       "</style>\n",
       "<table border=\"1\" class=\"dataframe\">\n",
       "  <thead>\n",
       "    <tr style=\"text-align: right;\">\n",
       "      <th></th>\n",
       "      <th>customer_id</th>\n",
       "      <th>Recency</th>\n",
       "      <th>Frequency</th>\n",
       "      <th>Monetary</th>\n",
       "      <th>Rscore</th>\n",
       "      <th>Fscore</th>\n",
       "      <th>Mscore</th>\n",
       "      <th>RFM_score</th>\n",
       "    </tr>\n",
       "  </thead>\n",
       "  <tbody>\n",
       "    <tr>\n",
       "      <th>1</th>\n",
       "      <td>1</td>\n",
       "      <td>363.0</td>\n",
       "      <td>1</td>\n",
       "      <td>1950.0</td>\n",
       "      <td>1.0</td>\n",
       "      <td>1.0</td>\n",
       "      <td>3.0</td>\n",
       "      <td>5.0</td>\n",
       "    </tr>\n",
       "    <tr>\n",
       "      <th>112160</th>\n",
       "      <td>3</td>\n",
       "      <td>41.0</td>\n",
       "      <td>1</td>\n",
       "      <td>1245.0</td>\n",
       "      <td>4.0</td>\n",
       "      <td>1.0</td>\n",
       "      <td>2.0</td>\n",
       "      <td>7.0</td>\n",
       "    </tr>\n",
       "    <tr>\n",
       "      <th>13597</th>\n",
       "      <td>4</td>\n",
       "      <td>36.0</td>\n",
       "      <td>211</td>\n",
       "      <td>989663.0</td>\n",
       "      <td>4.0</td>\n",
       "      <td>4.0</td>\n",
       "      <td>4.0</td>\n",
       "      <td>12.0</td>\n",
       "    </tr>\n",
       "    <tr>\n",
       "      <th>4</th>\n",
       "      <td>6</td>\n",
       "      <td>363.0</td>\n",
       "      <td>1</td>\n",
       "      <td>170.0</td>\n",
       "      <td>1.0</td>\n",
       "      <td>1.0</td>\n",
       "      <td>1.0</td>\n",
       "      <td>3.0</td>\n",
       "    </tr>\n",
       "    <tr>\n",
       "      <th>102506</th>\n",
       "      <td>7</td>\n",
       "      <td>75.0</td>\n",
       "      <td>4</td>\n",
       "      <td>1939.0</td>\n",
       "      <td>4.0</td>\n",
       "      <td>4.0</td>\n",
       "      <td>3.0</td>\n",
       "      <td>11.0</td>\n",
       "    </tr>\n",
       "  </tbody>\n",
       "</table>\n",
       "</div>"
      ],
      "text/plain": [
       "        customer_id  Recency  Frequency  Monetary  Rscore  Fscore  Mscore  \\\n",
       "1                 1    363.0          1    1950.0     1.0     1.0     3.0   \n",
       "112160            3     41.0          1    1245.0     4.0     1.0     2.0   \n",
       "13597             4     36.0        211  989663.0     4.0     4.0     4.0   \n",
       "4                 6    363.0          1     170.0     1.0     1.0     1.0   \n",
       "102506            7     75.0          4    1939.0     4.0     4.0     3.0   \n",
       "\n",
       "        RFM_score  \n",
       "1             5.0  \n",
       "112160        7.0  \n",
       "13597        12.0  \n",
       "4             3.0  \n",
       "102506       11.0  "
      ]
     },
     "execution_count": 73,
     "metadata": {},
     "output_type": "execute_result"
    }
   ],
   "source": [
    "df_rfm.head()"
   ]
  },
  {
   "cell_type": "code",
   "execution_count": 74,
   "id": "d18f4e65",
   "metadata": {},
   "outputs": [],
   "source": [
    "df_rfm.loc[(df_rfm['RFM_score'] == 12.0), 'Cluster'] = 'Champions'\n",
    "df_rfm.loc[(df_rfm['RFM_score'] == 11.0), 'Cluster'] = 'Loyal Customers'\n",
    "df_rfm.loc[(df_rfm['RFM_score'] >= 9.0) & (df_rfm['RFM_score'] <= 10.0), 'Cluster'] = 'Promising Customers'\n",
    "df_rfm.loc[(df_rfm['RFM_score'] >= 7.0) & (df_rfm['RFM_score'] <= 8.0), 'Cluster'] = 'At Risk'\n",
    "df_rfm.loc[(df_rfm['RFM_score'] >= 4.0) & (df_rfm['RFM_score'] <= 6.0), 'Cluster'] = 'Hibernating'\n",
    "df_rfm.loc[(df_rfm['RFM_score'] == 3.0), 'Cluster'] = 'Lost Customers'"
   ]
  },
  {
   "cell_type": "code",
   "execution_count": 75,
   "id": "8323605d",
   "metadata": {},
   "outputs": [
    {
     "data": {
      "text/plain": [
       "Hibernating            15290\n",
       "At Risk                 8861\n",
       "Promising Customers     5211\n",
       "Lost Customers          2534\n",
       "Loyal Customers         1839\n",
       "Champions               1685\n",
       "Name: Cluster, dtype: int64"
      ]
     },
     "execution_count": 75,
     "metadata": {},
     "output_type": "execute_result"
    }
   ],
   "source": [
    "df_rfm['Cluster'].value_counts()"
   ]
  },
  {
   "cell_type": "code",
   "execution_count": 76,
   "id": "2c072bc7",
   "metadata": {},
   "outputs": [
    {
     "data": {
      "text/html": [
       "<div>\n",
       "<style scoped>\n",
       "    .dataframe tbody tr th:only-of-type {\n",
       "        vertical-align: middle;\n",
       "    }\n",
       "\n",
       "    .dataframe tbody tr th {\n",
       "        vertical-align: top;\n",
       "    }\n",
       "\n",
       "    .dataframe thead th {\n",
       "        text-align: right;\n",
       "    }\n",
       "</style>\n",
       "<table border=\"1\" class=\"dataframe\">\n",
       "  <thead>\n",
       "    <tr style=\"text-align: right;\">\n",
       "      <th></th>\n",
       "      <th>customer_id</th>\n",
       "      <th>Recency</th>\n",
       "      <th>Frequency</th>\n",
       "      <th>Monetary</th>\n",
       "      <th>Rscore</th>\n",
       "      <th>Fscore</th>\n",
       "      <th>Mscore</th>\n",
       "      <th>RFM_score</th>\n",
       "      <th>Cluster</th>\n",
       "    </tr>\n",
       "  </thead>\n",
       "  <tbody>\n",
       "    <tr>\n",
       "      <th>1</th>\n",
       "      <td>1</td>\n",
       "      <td>363.0</td>\n",
       "      <td>1</td>\n",
       "      <td>1950.0</td>\n",
       "      <td>1.0</td>\n",
       "      <td>1.0</td>\n",
       "      <td>3.0</td>\n",
       "      <td>5.0</td>\n",
       "      <td>Hibernating</td>\n",
       "    </tr>\n",
       "    <tr>\n",
       "      <th>112160</th>\n",
       "      <td>3</td>\n",
       "      <td>41.0</td>\n",
       "      <td>1</td>\n",
       "      <td>1245.0</td>\n",
       "      <td>4.0</td>\n",
       "      <td>1.0</td>\n",
       "      <td>2.0</td>\n",
       "      <td>7.0</td>\n",
       "      <td>At Risk</td>\n",
       "    </tr>\n",
       "    <tr>\n",
       "      <th>13597</th>\n",
       "      <td>4</td>\n",
       "      <td>36.0</td>\n",
       "      <td>211</td>\n",
       "      <td>989663.0</td>\n",
       "      <td>4.0</td>\n",
       "      <td>4.0</td>\n",
       "      <td>4.0</td>\n",
       "      <td>12.0</td>\n",
       "      <td>Champions</td>\n",
       "    </tr>\n",
       "    <tr>\n",
       "      <th>4</th>\n",
       "      <td>6</td>\n",
       "      <td>363.0</td>\n",
       "      <td>1</td>\n",
       "      <td>170.0</td>\n",
       "      <td>1.0</td>\n",
       "      <td>1.0</td>\n",
       "      <td>1.0</td>\n",
       "      <td>3.0</td>\n",
       "      <td>Lost Customers</td>\n",
       "    </tr>\n",
       "    <tr>\n",
       "      <th>102506</th>\n",
       "      <td>7</td>\n",
       "      <td>75.0</td>\n",
       "      <td>4</td>\n",
       "      <td>1939.0</td>\n",
       "      <td>4.0</td>\n",
       "      <td>4.0</td>\n",
       "      <td>3.0</td>\n",
       "      <td>11.0</td>\n",
       "      <td>Loyal Customers</td>\n",
       "    </tr>\n",
       "  </tbody>\n",
       "</table>\n",
       "</div>"
      ],
      "text/plain": [
       "        customer_id  Recency  Frequency  Monetary  Rscore  Fscore  Mscore  \\\n",
       "1                 1    363.0          1    1950.0     1.0     1.0     3.0   \n",
       "112160            3     41.0          1    1245.0     4.0     1.0     2.0   \n",
       "13597             4     36.0        211  989663.0     4.0     4.0     4.0   \n",
       "4                 6    363.0          1     170.0     1.0     1.0     1.0   \n",
       "102506            7     75.0          4    1939.0     4.0     4.0     3.0   \n",
       "\n",
       "        RFM_score          Cluster  \n",
       "1             5.0      Hibernating  \n",
       "112160        7.0          At Risk  \n",
       "13597        12.0        Champions  \n",
       "4             3.0   Lost Customers  \n",
       "102506       11.0  Loyal Customers  "
      ]
     },
     "execution_count": 76,
     "metadata": {},
     "output_type": "execute_result"
    }
   ],
   "source": [
    "df_rfm.head()"
   ]
  },
  {
   "cell_type": "code",
   "execution_count": 77,
   "id": "103eb225",
   "metadata": {},
   "outputs": [
    {
     "data": {
      "image/png": "[encoded data removed]",
      "text/plain": [
       "<Figure size 1440x720 with 1 Axes>"
      ]
     },
     "metadata": {},
     "output_type": "display_data"
    }
   ],
   "source": [
    "plt.figure(figsize=(20,10))\n",
    "\n",
    "ax = sns.boxplot(data=df_rfm, x='Cluster', y = 'Recency', palette='bright');\n",
    "plt.xticks( fontsize=20)\n",
    "plt.yticks( fontsize=20)\n",
    "plt.xlabel('Clusters', fontsize=30, labelpad=30, color='black')\n",
    "plt.ylabel('Recency', fontsize=30, labelpad=30, color='black');\n",
    "ax.tick_params(axis='x', colors='black')\n",
    "ax.tick_params(axis='y', colors='black');\n"
   ]
  },
  {
   "cell_type": "code",
   "execution_count": 78,
   "id": "9d8342a1",
   "metadata": {},
   "outputs": [
    {
     "ename": "AttributeError",
     "evalue": "'AxesSubplot' object has no attribute 'bar_label'",
     "output_type": "error",
     "traceback": [
      "\u001b[1;31m---------------------------------------------------------------------------\u001b[0m",
      "\u001b[1;31mAttributeError\u001b[0m                            Traceback (most recent call last)",
      "\u001b[1;32m<ipython-input-78-0a98b82cd0ad>\u001b[0m in \u001b[0;36m<module>\u001b[1;34m\u001b[0m\n\u001b[0;32m      5\u001b[0m \u001b[1;33m\u001b[0m\u001b[0m\n\u001b[0;32m      6\u001b[0m \u001b[0max\u001b[0m \u001b[1;33m=\u001b[0m \u001b[0msns\u001b[0m\u001b[1;33m.\u001b[0m\u001b[0mbarplot\u001b[0m\u001b[1;33m(\u001b[0m\u001b[0mdata\u001b[0m\u001b[1;33m=\u001b[0m\u001b[0mfrequency_df\u001b[0m\u001b[1;33m,\u001b[0m \u001b[0mx\u001b[0m\u001b[1;33m=\u001b[0m\u001b[1;34m'Cluster'\u001b[0m\u001b[1;33m,\u001b[0m \u001b[0my\u001b[0m\u001b[1;33m=\u001b[0m\u001b[1;34m'Number_of_Purchases'\u001b[0m\u001b[1;33m,\u001b[0m \u001b[0mpalette\u001b[0m\u001b[1;33m=\u001b[0m\u001b[1;34m'bright'\u001b[0m\u001b[1;33m)\u001b[0m\u001b[1;33m\u001b[0m\u001b[1;33m\u001b[0m\u001b[0m\n\u001b[1;32m----> 7\u001b[1;33m \u001b[0max\u001b[0m\u001b[1;33m.\u001b[0m\u001b[0mbar_label\u001b[0m\u001b[1;33m(\u001b[0m\u001b[0mcontainer\u001b[0m \u001b[1;33m=\u001b[0m \u001b[0max\u001b[0m\u001b[1;33m.\u001b[0m\u001b[0mcontainers\u001b[0m\u001b[1;33m[\u001b[0m\u001b[1;36m0\u001b[0m\u001b[1;33m]\u001b[0m\u001b[1;33m,\u001b[0m \u001b[0mpadding\u001b[0m \u001b[1;33m=\u001b[0m \u001b[1;36m0\u001b[0m\u001b[1;33m,\u001b[0m \u001b[0mfontsize\u001b[0m \u001b[1;33m=\u001b[0m \u001b[1;36m22\u001b[0m\u001b[1;33m,\u001b[0m \u001b[0mcolor\u001b[0m\u001b[1;33m=\u001b[0m\u001b[1;34m'white'\u001b[0m\u001b[1;33m)\u001b[0m\u001b[1;33m\u001b[0m\u001b[1;33m\u001b[0m\u001b[0m\n\u001b[0m\u001b[0;32m      8\u001b[0m \u001b[0mplt\u001b[0m\u001b[1;33m.\u001b[0m\u001b[0mxticks\u001b[0m\u001b[1;33m(\u001b[0m \u001b[0mfontsize\u001b[0m\u001b[1;33m=\u001b[0m\u001b[1;36m20\u001b[0m\u001b[1;33m)\u001b[0m\u001b[1;33m\u001b[0m\u001b[1;33m\u001b[0m\u001b[0m\n\u001b[0;32m      9\u001b[0m \u001b[0mplt\u001b[0m\u001b[1;33m.\u001b[0m\u001b[0myticks\u001b[0m\u001b[1;33m(\u001b[0m \u001b[0mfontsize\u001b[0m\u001b[1;33m=\u001b[0m\u001b[1;36m20\u001b[0m\u001b[1;33m)\u001b[0m\u001b[1;33m\u001b[0m\u001b[1;33m\u001b[0m\u001b[0m\n",
      "\u001b[1;31mAttributeError\u001b[0m: 'AxesSubplot' object has no attribute 'bar_label'"
     ]
    },
    {
     "data": {
      "image/png": "[encoded data removed]",
      "text/plain": [
       "<Figure size 1440x720 with 1 Axes>"
      ]
     },
     "metadata": {},
     "output_type": "display_data"
    }
   ],
   "source": [
    "frequency = df_rfm.groupby('Cluster')['Frequency'].sum()\n",
    "frequency_df = pd.DataFrame(list(frequency.items()), columns=['Cluster', 'Number_of_Purchases'])\n",
    "\n",
    "plt.figure(figsize=(20,10))\n",
    "\n",
    "ax = sns.barplot(data=frequency_df, x='Cluster', y='Number_of_Purchases', palette='bright')\n",
    "ax.bar_label(container = ax.containers[0], padding = 0, fontsize = 22, color='white')\n",
    "plt.xticks( fontsize=20)\n",
    "plt.yticks( fontsize=20)\n",
    "plt.xlabel('Clusters', fontsize=30, labelpad=24, color='black')\n",
    "plt.ylabel('No. of Purchases', fontsize=30, labelpad=24, color='black');\n",
    "ax.tick_params(axis='x', colors='black')\n",
    "ax.tick_params(axis='y', colors='black');"
   ]
  },
  {
   "cell_type": "markdown",
   "id": "65abe491",
   "metadata": {},
   "source": [
    "## Computation of CLTV\n"
   ]
  },
  {
   "cell_type": "code",
   "execution_count": 79,
   "id": "0a3ba5eb",
   "metadata": {},
   "outputs": [
    {
     "data": {
      "text/plain": [
       "9365.824716007442"
      ]
     },
     "execution_count": 79,
     "metadata": {},
     "output_type": "execute_result"
    }
   ],
   "source": [
    "AvgOv = (df_2ndyr['final_order_amount'].sum())/(df_2ndyr['order_id'].nunique())\n",
    "AvgOv"
   ]
  },
  {
   "cell_type": "code",
   "execution_count": 80,
   "id": "cfbd2e9a",
   "metadata": {},
   "outputs": [
    {
     "data": {
      "text/plain": [
       "2.0843400385012414"
      ]
     },
     "execution_count": 80,
     "metadata": {},
     "output_type": "execute_result"
    }
   ],
   "source": [
    "# the orders data is for 2 years one month, purchase frequency if to be calculated quarter level, then it is 8 quarters\n",
    "# calculating PurFr - Purchase Frequency = Total Orders count / Total Customers count\n",
    "PurFr = (df_2ndyr['order_id'].nunique())/(df_2ndyr['customer_id'].nunique())# this is pur freq for 2 years\n",
    "PurFr"
   ]
  },
  {
   "cell_type": "code",
   "execution_count": 81,
   "id": "4ea8c591",
   "metadata": {},
   "outputs": [
    {
     "data": {
      "text/plain": [
       "19521.56344915883"
      ]
     },
     "execution_count": 81,
     "metadata": {},
     "output_type": "execute_result"
    }
   ],
   "source": [
    "# calculating CV, Customer Value = Average Order Value x Purchase Frequency\n",
    "CV = AvgOv*PurFr\n",
    "CV"
   ]
  },
  {
   "cell_type": "code",
   "execution_count": 82,
   "id": "517dde16",
   "metadata": {},
   "outputs": [],
   "source": [
    "df_2ndyr['First_Purchase'] = df_2ndyr.groupby('customer_id')['order_date'].transform(min)\n",
    "df_2ndyr['Most_Recent_Purchase'] = df_2ndyr.groupby('customer_id')['order_date'].transform(max)\n",
    "## Adding 1 to life span to nulify the effect of subtraction in that customer which has purchased only 1 time.\n",
    "df_2ndyr['Life_Span'] = (df_2ndyr.Most_Recent_Purchase - df_2ndyr.First_Purchase).astype('timedelta64[D]')"
   ]
  },
  {
   "cell_type": "code",
   "execution_count": 83,
   "id": "07b7a4d8",
   "metadata": {},
   "outputs": [
    {
     "data": {
      "text/html": [
       "<div>\n",
       "<style scoped>\n",
       "    .dataframe tbody tr th:only-of-type {\n",
       "        vertical-align: middle;\n",
       "    }\n",
       "\n",
       "    .dataframe tbody tr th {\n",
       "        vertical-align: top;\n",
       "    }\n",
       "\n",
       "    .dataframe thead th {\n",
       "        text-align: right;\n",
       "    }\n",
       "</style>\n",
       "<table border=\"1\" class=\"dataframe\">\n",
       "  <thead>\n",
       "    <tr style=\"text-align: right;\">\n",
       "      <th></th>\n",
       "      <th>item_id</th>\n",
       "      <th>status</th>\n",
       "      <th>order_date</th>\n",
       "      <th>item_description</th>\n",
       "      <th>price</th>\n",
       "      <th>qty_ordered</th>\n",
       "      <th>order_amount</th>\n",
       "      <th>order_id</th>\n",
       "      <th>category_name</th>\n",
       "      <th>discount_amount</th>\n",
       "      <th>...</th>\n",
       "      <th>Month</th>\n",
       "      <th>customer_since</th>\n",
       "      <th>M-Y</th>\n",
       "      <th>FY</th>\n",
       "      <th>customer_id</th>\n",
       "      <th>order_status</th>\n",
       "      <th>final_order_amount</th>\n",
       "      <th>First_Purchase</th>\n",
       "      <th>Most_Recent_Purchase</th>\n",
       "      <th>Life_Span</th>\n",
       "    </tr>\n",
       "  </thead>\n",
       "  <tbody>\n",
       "    <tr>\n",
       "      <th>40597</th>\n",
       "      <td>647529</td>\n",
       "      <td>complete</td>\n",
       "      <td>2017-11-19</td>\n",
       "      <td>BAGELM5A094F3D07AD6</td>\n",
       "      <td>237.0</td>\n",
       "      <td>1</td>\n",
       "      <td>1709.0</td>\n",
       "      <td>100397845</td>\n",
       "      <td>Beauty &amp; Grooming</td>\n",
       "      <td>0.0</td>\n",
       "      <td>...</td>\n",
       "      <td>11</td>\n",
       "      <td>9/1/16</td>\n",
       "      <td>11/1/17</td>\n",
       "      <td>2018</td>\n",
       "      <td>8561</td>\n",
       "      <td>completed</td>\n",
       "      <td>237.0</td>\n",
       "      <td>2017-10-08</td>\n",
       "      <td>2017-11-19</td>\n",
       "      <td>42.0</td>\n",
       "    </tr>\n",
       "    <tr>\n",
       "      <th>95561</th>\n",
       "      <td>789838</td>\n",
       "      <td>complete</td>\n",
       "      <td>2018-03-17</td>\n",
       "      <td>MEFKAR5A7C13F10C4B3</td>\n",
       "      <td>410.0</td>\n",
       "      <td>1</td>\n",
       "      <td>1280.0</td>\n",
       "      <td>100484551</td>\n",
       "      <td>Men's Fashion</td>\n",
       "      <td>82.0</td>\n",
       "      <td>...</td>\n",
       "      <td>3</td>\n",
       "      <td>3/1/18</td>\n",
       "      <td>3/1/18</td>\n",
       "      <td>2018</td>\n",
       "      <td>96792</td>\n",
       "      <td>completed</td>\n",
       "      <td>328.0</td>\n",
       "      <td>2018-03-17</td>\n",
       "      <td>2018-03-17</td>\n",
       "      <td>0.0</td>\n",
       "    </tr>\n",
       "    <tr>\n",
       "      <th>9850</th>\n",
       "      <td>552887</td>\n",
       "      <td>complete</td>\n",
       "      <td>2017-08-07</td>\n",
       "      <td>jj_20100559-999-HOC</td>\n",
       "      <td>685.0</td>\n",
       "      <td>1</td>\n",
       "      <td>2015.0</td>\n",
       "      <td>100343834</td>\n",
       "      <td>Beauty &amp; Grooming</td>\n",
       "      <td>0.0</td>\n",
       "      <td>...</td>\n",
       "      <td>8</td>\n",
       "      <td>8/1/17</td>\n",
       "      <td>8/1/17</td>\n",
       "      <td>2018</td>\n",
       "      <td>56853</td>\n",
       "      <td>completed</td>\n",
       "      <td>685.0</td>\n",
       "      <td>2017-08-07</td>\n",
       "      <td>2017-12-24</td>\n",
       "      <td>139.0</td>\n",
       "    </tr>\n",
       "    <tr>\n",
       "      <th>40165</th>\n",
       "      <td>646497</td>\n",
       "      <td>complete</td>\n",
       "      <td>2017-11-19</td>\n",
       "      <td>MATMOT59FC5E234E733</td>\n",
       "      <td>18555.0</td>\n",
       "      <td>1</td>\n",
       "      <td>14555.0</td>\n",
       "      <td>100397288</td>\n",
       "      <td>Mobiles &amp; Tablets</td>\n",
       "      <td>0.0</td>\n",
       "      <td>...</td>\n",
       "      <td>11</td>\n",
       "      <td>11/1/17</td>\n",
       "      <td>11/1/17</td>\n",
       "      <td>2018</td>\n",
       "      <td>69987</td>\n",
       "      <td>completed</td>\n",
       "      <td>18555.0</td>\n",
       "      <td>2017-11-18</td>\n",
       "      <td>2017-11-19</td>\n",
       "      <td>1.0</td>\n",
       "    </tr>\n",
       "    <tr>\n",
       "      <th>8255</th>\n",
       "      <td>546812</td>\n",
       "      <td>complete</td>\n",
       "      <td>2017-07-31</td>\n",
       "      <td>BD_BIG DEAL_10</td>\n",
       "      <td>1000.0</td>\n",
       "      <td>1</td>\n",
       "      <td>0.0</td>\n",
       "      <td>100341531</td>\n",
       "      <td>Mobiles &amp; Tablets</td>\n",
       "      <td>0.0</td>\n",
       "      <td>...</td>\n",
       "      <td>7</td>\n",
       "      <td>7/1/17</td>\n",
       "      <td>7/1/17</td>\n",
       "      <td>2018</td>\n",
       "      <td>54018</td>\n",
       "      <td>completed</td>\n",
       "      <td>1000.0</td>\n",
       "      <td>2017-07-12</td>\n",
       "      <td>2017-07-31</td>\n",
       "      <td>19.0</td>\n",
       "    </tr>\n",
       "  </tbody>\n",
       "</table>\n",
       "<p>5 rows × 25 columns</p>\n",
       "</div>"
      ],
      "text/plain": [
       "       item_id    status order_date     item_description    price  \\\n",
       "40597   647529  complete 2017-11-19  BAGELM5A094F3D07AD6    237.0   \n",
       "95561   789838  complete 2018-03-17  MEFKAR5A7C13F10C4B3    410.0   \n",
       "9850    552887  complete 2017-08-07  jj_20100559-999-HOC    685.0   \n",
       "40165   646497  complete 2017-11-19  MATMOT59FC5E234E733  18555.0   \n",
       "8255    546812  complete 2017-07-31       BD_BIG DEAL_10   1000.0   \n",
       "\n",
       "       qty_ordered  order_amount   order_id      category_name  \\\n",
       "40597            1        1709.0  100397845  Beauty & Grooming   \n",
       "95561            1        1280.0  100484551      Men's Fashion   \n",
       "9850             1        2015.0  100343834  Beauty & Grooming   \n",
       "40165            1       14555.0  100397288  Mobiles & Tablets   \n",
       "8255             1           0.0  100341531  Mobiles & Tablets   \n",
       "\n",
       "       discount_amount  ... Month customer_since      M-Y    FY  customer_id  \\\n",
       "40597              0.0  ...    11         9/1/16  11/1/17  2018         8561   \n",
       "95561             82.0  ...     3         3/1/18   3/1/18  2018        96792   \n",
       "9850               0.0  ...     8         8/1/17   8/1/17  2018        56853   \n",
       "40165              0.0  ...    11        11/1/17  11/1/17  2018        69987   \n",
       "8255               0.0  ...     7         7/1/17   7/1/17  2018        54018   \n",
       "\n",
       "       order_status final_order_amount First_Purchase  Most_Recent_Purchase  \\\n",
       "40597     completed              237.0     2017-10-08            2017-11-19   \n",
       "95561     completed              328.0     2018-03-17            2018-03-17   \n",
       "9850      completed              685.0     2017-08-07            2017-12-24   \n",
       "40165     completed            18555.0     2017-11-18            2017-11-19   \n",
       "8255      completed             1000.0     2017-07-12            2017-07-31   \n",
       "\n",
       "       Life_Span  \n",
       "40597       42.0  \n",
       "95561        0.0  \n",
       "9850       139.0  \n",
       "40165        1.0  \n",
       "8255        19.0  \n",
       "\n",
       "[5 rows x 25 columns]"
      ]
     },
     "execution_count": 83,
     "metadata": {},
     "output_type": "execute_result"
    }
   ],
   "source": [
    "df_2ndyr.sample(5)"
   ]
  },
  {
   "cell_type": "code",
   "execution_count": 84,
   "id": "da90c53c",
   "metadata": {},
   "outputs": [],
   "source": [
    "df_2ndyr['Life_Span'] = df_2ndyr['Life_Span']/365"
   ]
  },
  {
   "cell_type": "code",
   "execution_count": 85,
   "id": "514b92ca",
   "metadata": {},
   "outputs": [],
   "source": [
    "df_2ndyr['CLTV'] = df_2ndyr['Life_Span']*CV"
   ]
  },
  {
   "cell_type": "code",
   "execution_count": 86,
   "id": "9e3ff6e1",
   "metadata": {},
   "outputs": [
    {
     "data": {
      "text/html": [
       "<div>\n",
       "<style scoped>\n",
       "    .dataframe tbody tr th:only-of-type {\n",
       "        vertical-align: middle;\n",
       "    }\n",
       "\n",
       "    .dataframe tbody tr th {\n",
       "        vertical-align: top;\n",
       "    }\n",
       "\n",
       "    .dataframe thead th {\n",
       "        text-align: right;\n",
       "    }\n",
       "</style>\n",
       "<table border=\"1\" class=\"dataframe\">\n",
       "  <thead>\n",
       "    <tr style=\"text-align: right;\">\n",
       "      <th></th>\n",
       "      <th>customer_id</th>\n",
       "      <th>CLTV</th>\n",
       "    </tr>\n",
       "  </thead>\n",
       "  <tbody>\n",
       "    <tr>\n",
       "      <th>78473</th>\n",
       "      <td>88089</td>\n",
       "      <td>0.000000</td>\n",
       "    </tr>\n",
       "    <tr>\n",
       "      <th>56524</th>\n",
       "      <td>79241</td>\n",
       "      <td>3904.312690</td>\n",
       "    </tr>\n",
       "    <tr>\n",
       "      <th>81510</th>\n",
       "      <td>61414</td>\n",
       "      <td>6631.983199</td>\n",
       "    </tr>\n",
       "    <tr>\n",
       "      <th>44180</th>\n",
       "      <td>32082</td>\n",
       "      <td>7327.271760</td>\n",
       "    </tr>\n",
       "    <tr>\n",
       "      <th>59372</th>\n",
       "      <td>77015</td>\n",
       "      <td>106.967471</td>\n",
       "    </tr>\n",
       "  </tbody>\n",
       "</table>\n",
       "</div>"
      ],
      "text/plain": [
       "       customer_id         CLTV\n",
       "78473        88089     0.000000\n",
       "56524        79241  3904.312690\n",
       "81510        61414  6631.983199\n",
       "44180        32082  7327.271760\n",
       "59372        77015   106.967471"
      ]
     },
     "execution_count": 86,
     "metadata": {},
     "output_type": "execute_result"
    }
   ],
   "source": [
    "df_2ndyr_final =  df_2ndyr[['customer_id','CLTV']]\n",
    "df_2ndyr_final.sample(5)"
   ]
  },
  {
   "cell_type": "code",
   "execution_count": 87,
   "id": "e7c175fd",
   "metadata": {},
   "outputs": [],
   "source": [
    "df_2ndyr_final = df_2ndyr_final.drop_duplicates()"
   ]
  },
  {
   "cell_type": "code",
   "execution_count": 88,
   "id": "11dab55c",
   "metadata": {},
   "outputs": [
    {
     "data": {
      "text/plain": [
       "(35843, 2)"
      ]
     },
     "execution_count": 88,
     "metadata": {},
     "output_type": "execute_result"
    }
   ],
   "source": [
    "df_2ndyr_final.shape"
   ]
  },
  {
   "cell_type": "code",
   "execution_count": 89,
   "id": "c72eaa0b",
   "metadata": {},
   "outputs": [],
   "source": [
    "df_final = pd.merge(df_rfm, df_2ndyr_final, on='customer_id', how ='inner')"
   ]
  },
  {
   "cell_type": "code",
   "execution_count": 90,
   "id": "2a1e78b2",
   "metadata": {},
   "outputs": [
    {
     "data": {
      "text/html": [
       "<div>\n",
       "<style scoped>\n",
       "    .dataframe tbody tr th:only-of-type {\n",
       "        vertical-align: middle;\n",
       "    }\n",
       "\n",
       "    .dataframe tbody tr th {\n",
       "        vertical-align: top;\n",
       "    }\n",
       "\n",
       "    .dataframe thead th {\n",
       "        text-align: right;\n",
       "    }\n",
       "</style>\n",
       "<table border=\"1\" class=\"dataframe\">\n",
       "  <thead>\n",
       "    <tr style=\"text-align: right;\">\n",
       "      <th></th>\n",
       "      <th>item_id</th>\n",
       "      <th>status</th>\n",
       "      <th>order_date</th>\n",
       "      <th>item_description</th>\n",
       "      <th>price</th>\n",
       "      <th>qty_ordered</th>\n",
       "      <th>order_amount</th>\n",
       "      <th>order_id</th>\n",
       "      <th>category_name</th>\n",
       "      <th>discount_amount</th>\n",
       "      <th>...</th>\n",
       "      <th>customer_since</th>\n",
       "      <th>M-Y</th>\n",
       "      <th>FY</th>\n",
       "      <th>customer_id</th>\n",
       "      <th>order_status</th>\n",
       "      <th>final_order_amount</th>\n",
       "      <th>First_Purchase</th>\n",
       "      <th>Most_Recent_Purchase</th>\n",
       "      <th>Life_Span</th>\n",
       "      <th>CLTV</th>\n",
       "    </tr>\n",
       "  </thead>\n",
       "  <tbody>\n",
       "    <tr>\n",
       "      <th>1540</th>\n",
       "      <td>530247</td>\n",
       "      <td>complete</td>\n",
       "      <td>2017-07-10</td>\n",
       "      <td>Delsey_94542012</td>\n",
       "      <td>963.0</td>\n",
       "      <td>1</td>\n",
       "      <td>1528.0</td>\n",
       "      <td>100333763</td>\n",
       "      <td>Home &amp; Living</td>\n",
       "      <td>0.0</td>\n",
       "      <td>...</td>\n",
       "      <td>7/1/16</td>\n",
       "      <td>7/1/17</td>\n",
       "      <td>2018</td>\n",
       "      <td>23</td>\n",
       "      <td>completed</td>\n",
       "      <td>963.0</td>\n",
       "      <td>2017-07-10</td>\n",
       "      <td>2017-07-10</td>\n",
       "      <td>0.0</td>\n",
       "      <td>0.0</td>\n",
       "    </tr>\n",
       "    <tr>\n",
       "      <th>1541</th>\n",
       "      <td>530248</td>\n",
       "      <td>complete</td>\n",
       "      <td>2017-07-10</td>\n",
       "      <td>TCM_Model EW6</td>\n",
       "      <td>340.0</td>\n",
       "      <td>1</td>\n",
       "      <td>1528.0</td>\n",
       "      <td>100333763</td>\n",
       "      <td>Health &amp; Sports</td>\n",
       "      <td>0.0</td>\n",
       "      <td>...</td>\n",
       "      <td>7/1/16</td>\n",
       "      <td>7/1/17</td>\n",
       "      <td>2018</td>\n",
       "      <td>23</td>\n",
       "      <td>completed</td>\n",
       "      <td>340.0</td>\n",
       "      <td>2017-07-10</td>\n",
       "      <td>2017-07-10</td>\n",
       "      <td>0.0</td>\n",
       "      <td>0.0</td>\n",
       "    </tr>\n",
       "    <tr>\n",
       "      <th>1542</th>\n",
       "      <td>530249</td>\n",
       "      <td>complete</td>\n",
       "      <td>2017-07-10</td>\n",
       "      <td>sheraton_SS_WS_01</td>\n",
       "      <td>225.0</td>\n",
       "      <td>1</td>\n",
       "      <td>1528.0</td>\n",
       "      <td>100333763</td>\n",
       "      <td>Health &amp; Sports</td>\n",
       "      <td>0.0</td>\n",
       "      <td>...</td>\n",
       "      <td>7/1/16</td>\n",
       "      <td>7/1/17</td>\n",
       "      <td>2018</td>\n",
       "      <td>23</td>\n",
       "      <td>completed</td>\n",
       "      <td>225.0</td>\n",
       "      <td>2017-07-10</td>\n",
       "      <td>2017-07-10</td>\n",
       "      <td>0.0</td>\n",
       "      <td>0.0</td>\n",
       "    </tr>\n",
       "  </tbody>\n",
       "</table>\n",
       "<p>3 rows × 26 columns</p>\n",
       "</div>"
      ],
      "text/plain": [
       "      item_id    status order_date   item_description  price  qty_ordered  \\\n",
       "1540   530247  complete 2017-07-10    Delsey_94542012  963.0            1   \n",
       "1541   530248  complete 2017-07-10      TCM_Model EW6  340.0            1   \n",
       "1542   530249  complete 2017-07-10  sheraton_SS_WS_01  225.0            1   \n",
       "\n",
       "      order_amount   order_id    category_name  discount_amount  ...  \\\n",
       "1540        1528.0  100333763    Home & Living              0.0  ...   \n",
       "1541        1528.0  100333763  Health & Sports              0.0  ...   \n",
       "1542        1528.0  100333763  Health & Sports              0.0  ...   \n",
       "\n",
       "     customer_since     M-Y    FY  customer_id  order_status  \\\n",
       "1540         7/1/16  7/1/17  2018           23     completed   \n",
       "1541         7/1/16  7/1/17  2018           23     completed   \n",
       "1542         7/1/16  7/1/17  2018           23     completed   \n",
       "\n",
       "      final_order_amount First_Purchase Most_Recent_Purchase  Life_Span  CLTV  \n",
       "1540               963.0     2017-07-10           2017-07-10        0.0   0.0  \n",
       "1541               340.0     2017-07-10           2017-07-10        0.0   0.0  \n",
       "1542               225.0     2017-07-10           2017-07-10        0.0   0.0  \n",
       "\n",
       "[3 rows x 26 columns]"
      ]
     },
     "execution_count": 90,
     "metadata": {},
     "output_type": "execute_result"
    }
   ],
   "source": [
    "df_2ndyr[df_2ndyr['customer_id']==23]"
   ]
  },
  {
   "cell_type": "code",
   "execution_count": 91,
   "id": "a54c7da9",
   "metadata": {},
   "outputs": [
    {
     "name": "stdout",
     "output_type": "stream",
     "text": [
      "(4941, 10)\n"
     ]
    },
    {
     "data": {
      "text/html": [
       "<div>\n",
       "<style scoped>\n",
       "    .dataframe tbody tr th:only-of-type {\n",
       "        vertical-align: middle;\n",
       "    }\n",
       "\n",
       "    .dataframe tbody tr th {\n",
       "        vertical-align: top;\n",
       "    }\n",
       "\n",
       "    .dataframe thead th {\n",
       "        text-align: right;\n",
       "    }\n",
       "</style>\n",
       "<table border=\"1\" class=\"dataframe\">\n",
       "  <thead>\n",
       "    <tr style=\"text-align: right;\">\n",
       "      <th></th>\n",
       "      <th>customer_id</th>\n",
       "      <th>Recency</th>\n",
       "      <th>Frequency</th>\n",
       "      <th>Monetary</th>\n",
       "      <th>Rscore</th>\n",
       "      <th>Fscore</th>\n",
       "      <th>Mscore</th>\n",
       "      <th>RFM_score</th>\n",
       "      <th>Cluster</th>\n",
       "      <th>CLTV</th>\n",
       "    </tr>\n",
       "  </thead>\n",
       "  <tbody>\n",
       "    <tr>\n",
       "      <th>0</th>\n",
       "      <td>4</td>\n",
       "      <td>36.0</td>\n",
       "      <td>211</td>\n",
       "      <td>989663.0</td>\n",
       "      <td>4.0</td>\n",
       "      <td>4.0</td>\n",
       "      <td>4.0</td>\n",
       "      <td>12.0</td>\n",
       "      <td>Champions</td>\n",
       "      <td>5936.694638</td>\n",
       "    </tr>\n",
       "    <tr>\n",
       "      <th>1</th>\n",
       "      <td>15</td>\n",
       "      <td>5.0</td>\n",
       "      <td>8</td>\n",
       "      <td>14389.0</td>\n",
       "      <td>4.0</td>\n",
       "      <td>4.0</td>\n",
       "      <td>4.0</td>\n",
       "      <td>12.0</td>\n",
       "      <td>Champions</td>\n",
       "      <td>9573.588650</td>\n",
       "    </tr>\n",
       "    <tr>\n",
       "      <th>2</th>\n",
       "      <td>20</td>\n",
       "      <td>19.0</td>\n",
       "      <td>203</td>\n",
       "      <td>1455429.0</td>\n",
       "      <td>4.0</td>\n",
       "      <td>4.0</td>\n",
       "      <td>4.0</td>\n",
       "      <td>12.0</td>\n",
       "      <td>Champions</td>\n",
       "      <td>11819.905540</td>\n",
       "    </tr>\n",
       "    <tr>\n",
       "      <th>3</th>\n",
       "      <td>21</td>\n",
       "      <td>215.0</td>\n",
       "      <td>4</td>\n",
       "      <td>40122.0</td>\n",
       "      <td>2.0</td>\n",
       "      <td>4.0</td>\n",
       "      <td>4.0</td>\n",
       "      <td>10.0</td>\n",
       "      <td>Promising Customers</td>\n",
       "      <td>8450.430205</td>\n",
       "    </tr>\n",
       "    <tr>\n",
       "      <th>4</th>\n",
       "      <td>23</td>\n",
       "      <td>119.0</td>\n",
       "      <td>11</td>\n",
       "      <td>24116.0</td>\n",
       "      <td>3.0</td>\n",
       "      <td>4.0</td>\n",
       "      <td>4.0</td>\n",
       "      <td>11.0</td>\n",
       "      <td>Loyal Customers</td>\n",
       "      <td>0.000000</td>\n",
       "    </tr>\n",
       "  </tbody>\n",
       "</table>\n",
       "</div>"
      ],
      "text/plain": [
       "   customer_id  Recency  Frequency   Monetary  Rscore  Fscore  Mscore  \\\n",
       "0            4     36.0        211   989663.0     4.0     4.0     4.0   \n",
       "1           15      5.0          8    14389.0     4.0     4.0     4.0   \n",
       "2           20     19.0        203  1455429.0     4.0     4.0     4.0   \n",
       "3           21    215.0          4    40122.0     2.0     4.0     4.0   \n",
       "4           23    119.0         11    24116.0     3.0     4.0     4.0   \n",
       "\n",
       "   RFM_score              Cluster          CLTV  \n",
       "0       12.0            Champions   5936.694638  \n",
       "1       12.0            Champions   9573.588650  \n",
       "2       12.0            Champions  11819.905540  \n",
       "3       10.0  Promising Customers   8450.430205  \n",
       "4       11.0      Loyal Customers      0.000000  "
      ]
     },
     "execution_count": 91,
     "metadata": {},
     "output_type": "execute_result"
    }
   ],
   "source": [
    "print(df_final.shape)\n",
    "df_final.head()"
   ]
  },
  {
   "cell_type": "code",
   "execution_count": 92,
   "id": "04a310eb",
   "metadata": {},
   "outputs": [
    {
     "data": {
      "text/plain": [
       "<AxesSubplot:ylabel='CLTV'>"
      ]
     },
     "execution_count": 92,
     "metadata": {},
     "output_type": "execute_result"
    },
    {
     "data": {
      "image/png": "[encoded data removed]",
      "text/plain": [
       "<Figure size 1080x576 with 1 Axes>"
      ]
     },
     "metadata": {},
     "output_type": "display_data"
    }
   ],
   "source": [
    "sns.boxplot(data=df_final, y = 'CLTV', palette='bright')"
   ]
  },
  {
   "cell_type": "code",
   "execution_count": 93,
   "id": "5b9cfb20",
   "metadata": {},
   "outputs": [
    {
     "data": {
      "text/plain": [
       "customer_id    290\n",
       "Recency        117\n",
       "Frequency       57\n",
       "Monetary       282\n",
       "Rscore           4\n",
       "Fscore           3\n",
       "Mscore           4\n",
       "RFM_score       10\n",
       "Cluster          6\n",
       "CLTV            81\n",
       "dtype: int64"
      ]
     },
     "execution_count": 93,
     "metadata": {},
     "output_type": "execute_result"
    }
   ],
   "source": [
    "df_final[df_final['CLTV'] >= 12000].nunique()"
   ]
  },
  {
   "cell_type": "code",
   "execution_count": 94,
   "id": "1b071b96",
   "metadata": {},
   "outputs": [
    {
     "data": {
      "text/plain": [
       "Hibernating            1095\n",
       "At Risk                1086\n",
       "Promising Customers    1044\n",
       "Champions               954\n",
       "Loyal Customers         627\n",
       "Lost Customers          135\n",
       "Name: Cluster, dtype: int64"
      ]
     },
     "execution_count": 94,
     "metadata": {},
     "output_type": "execute_result"
    }
   ],
   "source": [
    "df_final.Cluster.value_counts()"
   ]
  },
  {
   "cell_type": "code",
   "execution_count": 95,
   "id": "d1218919",
   "metadata": {},
   "outputs": [],
   "source": [
    "# models we are using\n",
    "# Linear regression\n",
    "# Bagging\n",
    "# Random Forest\n",
    "# Boosting\n",
    "# SVM- Support vector machines if time allows"
   ]
  },
  {
   "cell_type": "code",
   "execution_count": 96,
   "id": "4cbe9367",
   "metadata": {},
   "outputs": [],
   "source": [
    "df_final1 = df_final.drop(['Rscore','Fscore', 'Mscore', 'RFM_score', 'Cluster'],axis =1)"
   ]
  },
  {
   "cell_type": "code",
   "execution_count": 97,
   "id": "ca78c897",
   "metadata": {},
   "outputs": [
    {
     "data": {
      "text/html": [
       "<div>\n",
       "<style scoped>\n",
       "    .dataframe tbody tr th:only-of-type {\n",
       "        vertical-align: middle;\n",
       "    }\n",
       "\n",
       "    .dataframe tbody tr th {\n",
       "        vertical-align: top;\n",
       "    }\n",
       "\n",
       "    .dataframe thead th {\n",
       "        text-align: right;\n",
       "    }\n",
       "</style>\n",
       "<table border=\"1\" class=\"dataframe\">\n",
       "  <thead>\n",
       "    <tr style=\"text-align: right;\">\n",
       "      <th></th>\n",
       "      <th>customer_id</th>\n",
       "      <th>Recency</th>\n",
       "      <th>Frequency</th>\n",
       "      <th>Monetary</th>\n",
       "      <th>CLTV</th>\n",
       "    </tr>\n",
       "  </thead>\n",
       "  <tbody>\n",
       "    <tr>\n",
       "      <th>0</th>\n",
       "      <td>4</td>\n",
       "      <td>36.0</td>\n",
       "      <td>211</td>\n",
       "      <td>989663.0</td>\n",
       "      <td>5936.694638</td>\n",
       "    </tr>\n",
       "    <tr>\n",
       "      <th>1</th>\n",
       "      <td>15</td>\n",
       "      <td>5.0</td>\n",
       "      <td>8</td>\n",
       "      <td>14389.0</td>\n",
       "      <td>9573.588650</td>\n",
       "    </tr>\n",
       "    <tr>\n",
       "      <th>2</th>\n",
       "      <td>20</td>\n",
       "      <td>19.0</td>\n",
       "      <td>203</td>\n",
       "      <td>1455429.0</td>\n",
       "      <td>11819.905540</td>\n",
       "    </tr>\n",
       "    <tr>\n",
       "      <th>3</th>\n",
       "      <td>21</td>\n",
       "      <td>215.0</td>\n",
       "      <td>4</td>\n",
       "      <td>40122.0</td>\n",
       "      <td>8450.430205</td>\n",
       "    </tr>\n",
       "    <tr>\n",
       "      <th>4</th>\n",
       "      <td>23</td>\n",
       "      <td>119.0</td>\n",
       "      <td>11</td>\n",
       "      <td>24116.0</td>\n",
       "      <td>0.000000</td>\n",
       "    </tr>\n",
       "  </tbody>\n",
       "</table>\n",
       "</div>"
      ],
      "text/plain": [
       "   customer_id  Recency  Frequency   Monetary          CLTV\n",
       "0            4     36.0        211   989663.0   5936.694638\n",
       "1           15      5.0          8    14389.0   9573.588650\n",
       "2           20     19.0        203  1455429.0  11819.905540\n",
       "3           21    215.0          4    40122.0   8450.430205\n",
       "4           23    119.0         11    24116.0      0.000000"
      ]
     },
     "execution_count": 97,
     "metadata": {},
     "output_type": "execute_result"
    }
   ],
   "source": [
    "df_final1.head()"
   ]
  },
  {
   "cell_type": "code",
   "execution_count": 98,
   "id": "19499707",
   "metadata": {},
   "outputs": [],
   "source": [
    "#Creating X and Y as feature set and target variable set.\n",
    "X = df_final1.drop([\"customer_id\", \"CLTV\"], axis = 1)\n",
    "Y = df_final1[\"CLTV\"]\n",
    "Y = pd.DataFrame(Y)"
   ]
  },
  {
   "cell_type": "markdown",
   "id": "a4002e3c",
   "metadata": {},
   "source": [
    "### Bagging Regressor"
   ]
  },
  {
   "cell_type": "markdown",
   "id": "862e4b8c",
   "metadata": {},
   "source": [
    "## XG Boost"
   ]
  },
  {
   "cell_type": "code",
   "execution_count": 99,
   "id": "229481b8",
   "metadata": {},
   "outputs": [
    {
     "name": "stdout",
     "output_type": "stream",
     "text": [
      "Requirement already satisfied: xgboost in c:\\programdata\\anaconda3\\lib\\site-packages (1.5.2)\n",
      "Requirement already satisfied: scipy in c:\\programdata\\anaconda3\\lib\\site-packages (from xgboost) (1.6.2)\n",
      "Requirement already satisfied: numpy in c:\\programdata\\anaconda3\\lib\\site-packages (from xgboost) (1.20.1)\n"
     ]
    }
   ],
   "source": [
    "!pip install xgboost"
   ]
  },
  {
   "cell_type": "code",
   "execution_count": 100,
   "id": "e772631c",
   "metadata": {},
   "outputs": [],
   "source": [
    "import xgboost as xgb"
   ]
  },
  {
   "cell_type": "code",
   "execution_count": null,
   "id": "29a98e9a",
   "metadata": {},
   "outputs": [],
   "source": []
  },
  {
   "cell_type": "code",
   "execution_count": 101,
   "id": "7a4e0c0d",
   "metadata": {},
   "outputs": [],
   "source": [
    "from sklearn.model_selection import train_test_split\n",
    "X_train, X_test, Y_train, Y_test = train_test_split(X, Y, test_size=0.3, random_state=10)"
   ]
  },
  {
   "cell_type": "code",
   "execution_count": 102,
   "id": "f4b9eb55",
   "metadata": {},
   "outputs": [
    {
     "name": "stdout",
     "output_type": "stream",
     "text": [
      "(1483, 3)\n",
      "(1483, 1)\n",
      "(3458, 3)\n",
      "(3458, 1)\n"
     ]
    }
   ],
   "source": [
    "print(X_test.shape)\n",
    "print(Y_test.shape)\n",
    "print(X_train.shape)\n",
    "print(Y_train.shape)"
   ]
  },
  {
   "cell_type": "code",
   "execution_count": 103,
   "id": "d54e10e2",
   "metadata": {},
   "outputs": [],
   "source": [
    "model = xgb.XGBRegressor(n_estimators=1000, eta=0.1, random_state = 10)\n",
    "\n",
    "# Fitting the model\n",
    "model.fit(X_train,Y_train)\n",
    "\n",
    "# Predict the model\n",
    "pred = model.predict(X_test)"
   ]
  },
  {
   "cell_type": "code",
   "execution_count": 104,
   "id": "f7a9e08d",
   "metadata": {},
   "outputs": [
    {
     "data": {
      "text/plain": [
       "array([4461.506 ,  818.3764, 2855.1816, ..., 4740.39  , 4100.8755,\n",
       "       1005.224 ], dtype=float32)"
      ]
     },
     "execution_count": 104,
     "metadata": {},
     "output_type": "execute_result"
    }
   ],
   "source": [
    "pred"
   ]
  },
  {
   "cell_type": "code",
   "execution_count": 105,
   "id": "f359d0bc",
   "metadata": {},
   "outputs": [
    {
     "data": {
      "text/plain": [
       "4461.168041719663"
      ]
     },
     "execution_count": 105,
     "metadata": {},
     "output_type": "execute_result"
    }
   ],
   "source": [
    "from sklearn.metrics import mean_squared_error\n",
    "rmse = np.sqrt(mean_squared_error(Y_test, pred))\n",
    "rmse"
   ]
  },
  {
   "cell_type": "code",
   "execution_count": 106,
   "id": "e438d32d",
   "metadata": {},
   "outputs": [
    {
     "data": {
      "text/plain": [
       "-0.17737908624700838"
      ]
     },
     "execution_count": 106,
     "metadata": {},
     "output_type": "execute_result"
    }
   ],
   "source": [
    "accuracy = model.score(X_test,Y_test)\n",
    "accuracy"
   ]
  },
  {
   "cell_type": "code",
   "execution_count": 107,
   "id": "f8c99e3b",
   "metadata": {},
   "outputs": [
    {
     "data": {
      "text/html": [
       "<div>\n",
       "<style scoped>\n",
       "    .dataframe tbody tr th:only-of-type {\n",
       "        vertical-align: middle;\n",
       "    }\n",
       "\n",
       "    .dataframe tbody tr th {\n",
       "        vertical-align: top;\n",
       "    }\n",
       "\n",
       "    .dataframe thead th {\n",
       "        text-align: right;\n",
       "    }\n",
       "</style>\n",
       "<table border=\"1\" class=\"dataframe\">\n",
       "  <thead>\n",
       "    <tr style=\"text-align: right;\">\n",
       "      <th></th>\n",
       "      <th>CLTV</th>\n",
       "    </tr>\n",
       "  </thead>\n",
       "  <tbody>\n",
       "    <tr>\n",
       "      <th>1122</th>\n",
       "      <td>1711.479535</td>\n",
       "    </tr>\n",
       "    <tr>\n",
       "      <th>4867</th>\n",
       "      <td>213.934942</td>\n",
       "    </tr>\n",
       "    <tr>\n",
       "      <th>4483</th>\n",
       "      <td>320.902413</td>\n",
       "    </tr>\n",
       "    <tr>\n",
       "      <th>3683</th>\n",
       "      <td>12461.710366</td>\n",
       "    </tr>\n",
       "    <tr>\n",
       "      <th>2125</th>\n",
       "      <td>8236.495263</td>\n",
       "    </tr>\n",
       "  </tbody>\n",
       "</table>\n",
       "</div>"
      ],
      "text/plain": [
       "              CLTV\n",
       "1122   1711.479535\n",
       "4867    213.934942\n",
       "4483    320.902413\n",
       "3683  12461.710366\n",
       "2125   8236.495263"
      ]
     },
     "execution_count": 107,
     "metadata": {},
     "output_type": "execute_result"
    }
   ],
   "source": [
    "Y_test.head()"
   ]
  },
  {
   "cell_type": "markdown",
   "id": "b0b10aff",
   "metadata": {},
   "source": [
    "## XGBRegressor with Objective as linear regression"
   ]
  },
  {
   "cell_type": "code",
   "execution_count": 108,
   "id": "05203f0a",
   "metadata": {},
   "outputs": [
    {
     "name": "stdout",
     "output_type": "stream",
     "text": [
      "[13:15:29] WARNING: C:/Users/Administrator/workspace/xgboost-win64_release_1.5.1/src/objective/regression_obj.cu:188: reg:linear is now deprecated in favor of reg:squarederror.\n",
      "RMSE :  3969.733771\n"
     ]
    }
   ],
   "source": [
    "# Instantiation\n",
    "xgb_r = xgb.XGBRegressor(objective ='reg:linear',\n",
    "                  n_estimators = 10, seed = 123)\n",
    "  \n",
    "# Fitting the model\n",
    "xgb_r.fit(X_train,Y_train)\n",
    "  \n",
    "# Predict the model\n",
    "pred = xgb_r.predict(X_test)\n",
    "  \n",
    "# RMSE Computation\n",
    "rmse1 = np.sqrt(mean_squared_error(Y_test, pred))\n",
    "print(\"RMSE : % f\" %(rmse1))"
   ]
  },
  {
   "cell_type": "markdown",
   "id": "4400d77f",
   "metadata": {},
   "source": [
    "# XGB Regressor with hyper parameters"
   ]
  },
  {
   "cell_type": "code",
   "execution_count": 109,
   "id": "d1425a3e",
   "metadata": {},
   "outputs": [],
   "source": [
    "from sklearn.metrics import r2_score\n",
    "from sklearn.datasets import load_boston"
   ]
  },
  {
   "cell_type": "code",
   "execution_count": 110,
   "id": "ce72b0bd",
   "metadata": {},
   "outputs": [
    {
     "name": "stdout",
     "output_type": "stream",
     "text": [
      "lambda =  1\n",
      "RMSE:  3867.53\n",
      "\n",
      "lambda =  10\n",
      "RMSE:  3856.24\n",
      "\n",
      "lambda =  15\n",
      "RMSE:  3854.0\n",
      "\n",
      "lambda =  20\n",
      "RMSE:  3854.38\n",
      "\n",
      "lambda =  25\n",
      "RMSE:  3855.22\n",
      "\n",
      "lambda =  30\n",
      "RMSE:  3860.41\n",
      "\n",
      "lambda =  35\n",
      "RMSE:  3858.59\n",
      "\n",
      "lambda =  40\n",
      "RMSE:  3862.34\n",
      "\n",
      "lambda =  45\n",
      "RMSE:  3862.27\n",
      "\n",
      "lambda =  50\n",
      "RMSE:  3859.21\n",
      "\n",
      "lambda =  100\n",
      "RMSE:  3863.8\n",
      "\n"
     ]
    }
   ],
   "source": [
    "lambda_values = [1, 10, 15, 20, 25, 30, 35, 40, 45, 50, 100]\n",
    "for val in lambda_values:\n",
    "    xgb_reg = xgb.XGBRegressor(max_depth=3, n_estimators=100, n_jobs=2,\n",
    "                           objective='reg:squarederror', booster='gbtree',\n",
    "                           random_state=42, learning_rate=0.05, reg_lambda=val)\n",
    "\n",
    "\n",
    "    xgb_reg.fit(X_train, Y_train)\n",
    "\n",
    "    y_pred = xgb_reg.predict(X_test)\n",
    "\n",
    "    MSE = mean_squared_error(Y_test, y_pred)\n",
    "    RMSE = np.sqrt(MSE)\n",
    "\n",
    "    R_squared = r2_score(Y_test, y_pred)\n",
    "\n",
    "    print(\"lambda = \", val)\n",
    "    print(\"RMSE: \", np.round(RMSE, 2))\n",
    "    #print(\"R-Squared: \", np.round(R_squared, 2))\n",
    "    print()"
   ]
  },
  {
   "cell_type": "markdown",
   "id": "243bd1ae",
   "metadata": {},
   "source": [
    "# Random Forest Regressor"
   ]
  },
  {
   "cell_type": "code",
   "execution_count": 111,
   "id": "816a7b18",
   "metadata": {},
   "outputs": [],
   "source": [
    "# Import the model we are using\n",
    "from sklearn.ensemble import RandomForestRegressor\n",
    "# Instantiate model with 1000 decision trees\n",
    "rf = RandomForestRegressor(n_estimators = 1000, random_state = 42)\n",
    "# Train the model on training data\n",
    "rf.fit(X_train,Y_train);"
   ]
  },
  {
   "cell_type": "code",
   "execution_count": 112,
   "id": "e41a8877",
   "metadata": {},
   "outputs": [
    {
     "name": "stdout",
     "output_type": "stream",
     "text": [
      "RMSE :  4147.339022\n"
     ]
    }
   ],
   "source": [
    "## Use the forest's predict method on the test data\n",
    "predictions = rf.predict(X_test)\n",
    "\n",
    "rmse2 = np.sqrt(mean_squared_error(Y_test, predictions))\n",
    "print(\"RMSE : % f\" %(rmse2))"
   ]
  },
  {
   "cell_type": "markdown",
   "id": "c5e82d6d",
   "metadata": {},
   "source": [
    "## Bagging Model"
   ]
  },
  {
   "cell_type": "code",
   "execution_count": 113,
   "id": "534dfa15",
   "metadata": {},
   "outputs": [],
   "source": [
    "from sklearn.model_selection import train_test_split\n",
    "X_train, X_test, Y_train, Y_test = train_test_split(X, Y, test_size=0.3, random_state=10)"
   ]
  },
  {
   "cell_type": "code",
   "execution_count": 114,
   "id": "835176fb",
   "metadata": {},
   "outputs": [
    {
     "name": "stdout",
     "output_type": "stream",
     "text": [
      "(4941, 3)\n",
      "(4941, 1)\n",
      "(3458, 3)\n",
      "(3458, 1)\n",
      "(1483, 3)\n",
      "(1483, 1)\n"
     ]
    }
   ],
   "source": [
    "print(X.shape)\n",
    "print(Y.shape)\n",
    "print(X_train.shape)\n",
    "print(Y_train.shape)\n",
    "print(X_test.shape)\n",
    "print(Y_test.shape)\n"
   ]
  },
  {
   "cell_type": "code",
   "execution_count": 115,
   "id": "399b2f5a",
   "metadata": {},
   "outputs": [],
   "source": [
    "# Let's build the first ensemble model \n",
    "from sklearn.ensemble import BaggingRegressor  # What type of ensemble you want to create \n",
    "from sklearn.tree import DecisionTreeRegressor # This will be the base learner\n"
   ]
  },
  {
   "cell_type": "code",
   "execution_count": 116,
   "id": "69ba91a8",
   "metadata": {},
   "outputs": [],
   "source": [
    "# Initialize the ensemble model \n",
    "bag = BaggingRegressor(oob_score=True, n_estimators=25, random_state=10, \n",
    "                        base_estimator=DecisionTreeRegressor())"
   ]
  },
  {
   "cell_type": "code",
   "execution_count": 117,
   "id": "1614c81d",
   "metadata": {},
   "outputs": [
    {
     "data": {
      "text/plain": [
       "BaggingRegressor(base_estimator=DecisionTreeRegressor(), n_estimators=25,\n",
       "                 oob_score=True, random_state=10)"
      ]
     },
     "execution_count": 117,
     "metadata": {},
     "output_type": "execute_result"
    }
   ],
   "source": [
    "# Let's try to put training data in the skeleton defined\n",
    "bag.fit(X_train, Y_train)"
   ]
  },
  {
   "cell_type": "code",
   "execution_count": 118,
   "id": "325e9b32",
   "metadata": {},
   "outputs": [
    {
     "data": {
      "text/plain": [
       "-0.12322754248105117"
      ]
     },
     "execution_count": 118,
     "metadata": {},
     "output_type": "execute_result"
    }
   ],
   "source": [
    "#checking the OOB_Score on Bagging Model.\n",
    "bag.oob_score_"
   ]
  },
  {
   "cell_type": "code",
   "execution_count": 119,
   "id": "5ca318c0",
   "metadata": {},
   "outputs": [
    {
     "name": "stdout",
     "output_type": "stream",
     "text": [
      " the number of estimators =  1\n",
      "Out of bage score is -0.49725091096029317\n",
      "----------------------------------\n",
      " the number of estimators =  101\n",
      "Out of bage score is -0.03906465899535094\n",
      "----------------------------------\n",
      " the number of estimators =  201\n",
      "Out of bage score is -0.027662435530632745\n",
      "----------------------------------\n",
      " the number of estimators =  301\n",
      "Out of bage score is -0.024905749635009578\n",
      "----------------------------------\n",
      " the number of estimators =  401\n",
      "Out of bage score is -0.022553027995519725\n",
      "----------------------------------\n",
      " the number of estimators =  501\n",
      "Out of bage score is -0.020558143921358685\n",
      "----------------------------------\n",
      " the number of estimators =  601\n",
      "Out of bage score is -0.020416303220891274\n",
      "----------------------------------\n",
      " the number of estimators =  701\n",
      "Out of bage score is -0.020320805304923528\n",
      "----------------------------------\n",
      " the number of estimators =  801\n",
      "Out of bage score is -0.020146454175503425\n",
      "----------------------------------\n",
      " the number of estimators =  901\n",
      "Out of bage score is -0.020099922123297143\n",
      "----------------------------------\n",
      " the number of estimators =  1001\n",
      "Out of bage score is -0.019818050997070458\n",
      "----------------------------------\n",
      " the number of estimators =  1101\n",
      "Out of bage score is -0.019153326778589497\n",
      "----------------------------------\n",
      " the number of estimators =  1201\n",
      "Out of bage score is -0.019208184927454797\n",
      "----------------------------------\n",
      " the number of estimators =  1301\n",
      "Out of bage score is -0.01872952789429916\n",
      "----------------------------------\n",
      " the number of estimators =  1401\n",
      "Out of bage score is -0.01799282894478127\n",
      "----------------------------------\n",
      " the number of estimators =  1501\n",
      "Out of bage score is -0.016618912127179142\n",
      "----------------------------------\n",
      " the number of estimators =  1601\n",
      "Out of bage score is -0.01632424410414912\n",
      "----------------------------------\n",
      " the number of estimators =  1701\n",
      "Out of bage score is -0.016484903734006462\n",
      "----------------------------------\n",
      " the number of estimators =  1801\n",
      "Out of bage score is -0.01642978690427266\n",
      "----------------------------------\n",
      " the number of estimators =  1901\n",
      "Out of bage score is -0.016542101769408735\n",
      "----------------------------------\n",
      " the number of estimators =  2001\n",
      "Out of bage score is -0.016539823981444712\n",
      "----------------------------------\n",
      " the number of estimators =  2101\n",
      "Out of bage score is -0.016223408727109367\n",
      "----------------------------------\n",
      " the number of estimators =  2201\n",
      "Out of bage score is -0.0158498052837992\n",
      "----------------------------------\n",
      " the number of estimators =  2301\n",
      "Out of bage score is -0.015845315788494352\n",
      "----------------------------------\n",
      " the number of estimators =  2401\n",
      "Out of bage score is -0.015740614268880293\n",
      "----------------------------------\n",
      " the number of estimators =  2501\n",
      "Out of bage score is -0.01623610910920692\n",
      "----------------------------------\n",
      " the number of estimators =  2601\n",
      "Out of bage score is -0.015950565541797745\n",
      "----------------------------------\n",
      " the number of estimators =  2701\n",
      "Out of bage score is -0.016046499684638116\n",
      "----------------------------------\n",
      " the number of estimators =  2801\n",
      "Out of bage score is -0.015629595757464365\n",
      "----------------------------------\n",
      " the number of estimators =  2901\n",
      "Out of bage score is -0.015346972224383304\n",
      "----------------------------------\n",
      " the number of estimators =  3001\n",
      "Out of bage score is -0.015223591576737805\n",
      "----------------------------------\n",
      " the number of estimators =  3101\n",
      "Out of bage score is -0.015375440333290413\n",
      "----------------------------------\n",
      " the number of estimators =  3201\n",
      "Out of bage score is -0.01546923260551325\n",
      "----------------------------------\n",
      " the number of estimators =  3301\n",
      "Out of bage score is -0.015583168133487257\n",
      "----------------------------------\n",
      " the number of estimators =  3401\n",
      "Out of bage score is -0.015380507791034281\n",
      "----------------------------------\n",
      " the number of estimators =  3501\n",
      "Out of bage score is -0.015457904381288579\n",
      "----------------------------------\n",
      " the number of estimators =  3601\n",
      "Out of bage score is -0.015394429533336362\n",
      "----------------------------------\n"
     ]
    },
    {
     "ename": "KeyboardInterrupt",
     "evalue": "",
     "output_type": "error",
     "traceback": [
      "\u001b[1;31m---------------------------------------------------------------------------\u001b[0m",
      "\u001b[1;31mKeyboardInterrupt\u001b[0m                         Traceback (most recent call last)",
      "\u001b[1;32m<ipython-input-119-21873273c6f7>\u001b[0m in \u001b[0;36m<module>\u001b[1;34m\u001b[0m\n\u001b[0;32m      3\u001b[0m     bag = BaggingRegressor(oob_score=True, n_estimators=i, random_state=10, \n\u001b[0;32m      4\u001b[0m                         base_estimator=DecisionTreeRegressor())\n\u001b[1;32m----> 5\u001b[1;33m     \u001b[0mbag\u001b[0m\u001b[1;33m.\u001b[0m\u001b[0mfit\u001b[0m\u001b[1;33m(\u001b[0m\u001b[0mX_train\u001b[0m\u001b[1;33m,\u001b[0m \u001b[0mY_train\u001b[0m\u001b[1;33m)\u001b[0m\u001b[1;33m\u001b[0m\u001b[1;33m\u001b[0m\u001b[0m\n\u001b[0m\u001b[0;32m      6\u001b[0m     \u001b[0moob\u001b[0m \u001b[1;33m=\u001b[0m \u001b[0mbag\u001b[0m\u001b[1;33m.\u001b[0m\u001b[0moob_score_\u001b[0m\u001b[1;33m\u001b[0m\u001b[1;33m\u001b[0m\u001b[0m\n\u001b[0;32m      7\u001b[0m     \u001b[0mprint\u001b[0m\u001b[1;33m(\u001b[0m\u001b[1;34m\" the number of estimators = \"\u001b[0m\u001b[1;33m,\u001b[0m \u001b[0mstr\u001b[0m\u001b[1;33m(\u001b[0m\u001b[0mi\u001b[0m\u001b[1;33m)\u001b[0m\u001b[1;33m)\u001b[0m\u001b[1;33m\u001b[0m\u001b[1;33m\u001b[0m\u001b[0m\n",
      "\u001b[1;32mC:\\ProgramData\\Anaconda3\\lib\\site-packages\\sklearn\\ensemble\\_bagging.py\u001b[0m in \u001b[0;36mfit\u001b[1;34m(self, X, y, sample_weight)\u001b[0m\n\u001b[0;32m    242\u001b[0m         \u001b[0mself\u001b[0m \u001b[1;33m:\u001b[0m \u001b[0mobject\u001b[0m\u001b[1;33m\u001b[0m\u001b[1;33m\u001b[0m\u001b[0m\n\u001b[0;32m    243\u001b[0m         \"\"\"\n\u001b[1;32m--> 244\u001b[1;33m         \u001b[1;32mreturn\u001b[0m \u001b[0mself\u001b[0m\u001b[1;33m.\u001b[0m\u001b[0m_fit\u001b[0m\u001b[1;33m(\u001b[0m\u001b[0mX\u001b[0m\u001b[1;33m,\u001b[0m \u001b[0my\u001b[0m\u001b[1;33m,\u001b[0m \u001b[0mself\u001b[0m\u001b[1;33m.\u001b[0m\u001b[0mmax_samples\u001b[0m\u001b[1;33m,\u001b[0m \u001b[0msample_weight\u001b[0m\u001b[1;33m=\u001b[0m\u001b[0msample_weight\u001b[0m\u001b[1;33m)\u001b[0m\u001b[1;33m\u001b[0m\u001b[1;33m\u001b[0m\u001b[0m\n\u001b[0m\u001b[0;32m    245\u001b[0m \u001b[1;33m\u001b[0m\u001b[0m\n\u001b[0;32m    246\u001b[0m     \u001b[1;32mdef\u001b[0m \u001b[0m_parallel_args\u001b[0m\u001b[1;33m(\u001b[0m\u001b[0mself\u001b[0m\u001b[1;33m)\u001b[0m\u001b[1;33m:\u001b[0m\u001b[1;33m\u001b[0m\u001b[1;33m\u001b[0m\u001b[0m\n",
      "\u001b[1;32mC:\\ProgramData\\Anaconda3\\lib\\site-packages\\sklearn\\ensemble\\_bagging.py\u001b[0m in \u001b[0;36m_fit\u001b[1;34m(self, X, y, max_samples, max_depth, sample_weight)\u001b[0m\n\u001b[0;32m    368\u001b[0m         \u001b[0mself\u001b[0m\u001b[1;33m.\u001b[0m\u001b[0m_seeds\u001b[0m \u001b[1;33m=\u001b[0m \u001b[0mseeds\u001b[0m\u001b[1;33m\u001b[0m\u001b[1;33m\u001b[0m\u001b[0m\n\u001b[0;32m    369\u001b[0m \u001b[1;33m\u001b[0m\u001b[0m\n\u001b[1;32m--> 370\u001b[1;33m         all_results = Parallel(n_jobs=n_jobs, verbose=self.verbose,\n\u001b[0m\u001b[0;32m    371\u001b[0m                                \u001b[1;33m**\u001b[0m\u001b[0mself\u001b[0m\u001b[1;33m.\u001b[0m\u001b[0m_parallel_args\u001b[0m\u001b[1;33m(\u001b[0m\u001b[1;33m)\u001b[0m\u001b[1;33m)\u001b[0m\u001b[1;33m(\u001b[0m\u001b[1;33m\u001b[0m\u001b[1;33m\u001b[0m\u001b[0m\n\u001b[0;32m    372\u001b[0m             delayed(_parallel_build_estimators)(\n",
      "\u001b[1;32mC:\\ProgramData\\Anaconda3\\lib\\site-packages\\joblib\\parallel.py\u001b[0m in \u001b[0;36m__call__\u001b[1;34m(self, iterable)\u001b[0m\n\u001b[0;32m   1039\u001b[0m             \u001b[1;31m# remaining jobs.\u001b[0m\u001b[1;33m\u001b[0m\u001b[1;33m\u001b[0m\u001b[1;33m\u001b[0m\u001b[0m\n\u001b[0;32m   1040\u001b[0m             \u001b[0mself\u001b[0m\u001b[1;33m.\u001b[0m\u001b[0m_iterating\u001b[0m \u001b[1;33m=\u001b[0m \u001b[1;32mFalse\u001b[0m\u001b[1;33m\u001b[0m\u001b[1;33m\u001b[0m\u001b[0m\n\u001b[1;32m-> 1041\u001b[1;33m             \u001b[1;32mif\u001b[0m \u001b[0mself\u001b[0m\u001b[1;33m.\u001b[0m\u001b[0mdispatch_one_batch\u001b[0m\u001b[1;33m(\u001b[0m\u001b[0miterator\u001b[0m\u001b[1;33m)\u001b[0m\u001b[1;33m:\u001b[0m\u001b[1;33m\u001b[0m\u001b[1;33m\u001b[0m\u001b[0m\n\u001b[0m\u001b[0;32m   1042\u001b[0m                 \u001b[0mself\u001b[0m\u001b[1;33m.\u001b[0m\u001b[0m_iterating\u001b[0m \u001b[1;33m=\u001b[0m \u001b[0mself\u001b[0m\u001b[1;33m.\u001b[0m\u001b[0m_original_iterator\u001b[0m \u001b[1;32mis\u001b[0m \u001b[1;32mnot\u001b[0m \u001b[1;32mNone\u001b[0m\u001b[1;33m\u001b[0m\u001b[1;33m\u001b[0m\u001b[0m\n\u001b[0;32m   1043\u001b[0m \u001b[1;33m\u001b[0m\u001b[0m\n",
      "\u001b[1;32mC:\\ProgramData\\Anaconda3\\lib\\site-packages\\joblib\\parallel.py\u001b[0m in \u001b[0;36mdispatch_one_batch\u001b[1;34m(self, iterator)\u001b[0m\n\u001b[0;32m    857\u001b[0m                 \u001b[1;32mreturn\u001b[0m \u001b[1;32mFalse\u001b[0m\u001b[1;33m\u001b[0m\u001b[1;33m\u001b[0m\u001b[0m\n\u001b[0;32m    858\u001b[0m             \u001b[1;32melse\u001b[0m\u001b[1;33m:\u001b[0m\u001b[1;33m\u001b[0m\u001b[1;33m\u001b[0m\u001b[0m\n\u001b[1;32m--> 859\u001b[1;33m                 \u001b[0mself\u001b[0m\u001b[1;33m.\u001b[0m\u001b[0m_dispatch\u001b[0m\u001b[1;33m(\u001b[0m\u001b[0mtasks\u001b[0m\u001b[1;33m)\u001b[0m\u001b[1;33m\u001b[0m\u001b[1;33m\u001b[0m\u001b[0m\n\u001b[0m\u001b[0;32m    860\u001b[0m                 \u001b[1;32mreturn\u001b[0m \u001b[1;32mTrue\u001b[0m\u001b[1;33m\u001b[0m\u001b[1;33m\u001b[0m\u001b[0m\n\u001b[0;32m    861\u001b[0m \u001b[1;33m\u001b[0m\u001b[0m\n",
      "\u001b[1;32mC:\\ProgramData\\Anaconda3\\lib\\site-packages\\joblib\\parallel.py\u001b[0m in \u001b[0;36m_dispatch\u001b[1;34m(self, batch)\u001b[0m\n\u001b[0;32m    775\u001b[0m         \u001b[1;32mwith\u001b[0m \u001b[0mself\u001b[0m\u001b[1;33m.\u001b[0m\u001b[0m_lock\u001b[0m\u001b[1;33m:\u001b[0m\u001b[1;33m\u001b[0m\u001b[1;33m\u001b[0m\u001b[0m\n\u001b[0;32m    776\u001b[0m             \u001b[0mjob_idx\u001b[0m \u001b[1;33m=\u001b[0m \u001b[0mlen\u001b[0m\u001b[1;33m(\u001b[0m\u001b[0mself\u001b[0m\u001b[1;33m.\u001b[0m\u001b[0m_jobs\u001b[0m\u001b[1;33m)\u001b[0m\u001b[1;33m\u001b[0m\u001b[1;33m\u001b[0m\u001b[0m\n\u001b[1;32m--> 777\u001b[1;33m             \u001b[0mjob\u001b[0m \u001b[1;33m=\u001b[0m \u001b[0mself\u001b[0m\u001b[1;33m.\u001b[0m\u001b[0m_backend\u001b[0m\u001b[1;33m.\u001b[0m\u001b[0mapply_async\u001b[0m\u001b[1;33m(\u001b[0m\u001b[0mbatch\u001b[0m\u001b[1;33m,\u001b[0m \u001b[0mcallback\u001b[0m\u001b[1;33m=\u001b[0m\u001b[0mcb\u001b[0m\u001b[1;33m)\u001b[0m\u001b[1;33m\u001b[0m\u001b[1;33m\u001b[0m\u001b[0m\n\u001b[0m\u001b[0;32m    778\u001b[0m             \u001b[1;31m# A job can complete so quickly than its callback is\u001b[0m\u001b[1;33m\u001b[0m\u001b[1;33m\u001b[0m\u001b[1;33m\u001b[0m\u001b[0m\n\u001b[0;32m    779\u001b[0m             \u001b[1;31m# called before we get here, causing self._jobs to\u001b[0m\u001b[1;33m\u001b[0m\u001b[1;33m\u001b[0m\u001b[1;33m\u001b[0m\u001b[0m\n",
      "\u001b[1;32mC:\\ProgramData\\Anaconda3\\lib\\site-packages\\joblib\\_parallel_backends.py\u001b[0m in \u001b[0;36mapply_async\u001b[1;34m(self, func, callback)\u001b[0m\n\u001b[0;32m    206\u001b[0m     \u001b[1;32mdef\u001b[0m \u001b[0mapply_async\u001b[0m\u001b[1;33m(\u001b[0m\u001b[0mself\u001b[0m\u001b[1;33m,\u001b[0m \u001b[0mfunc\u001b[0m\u001b[1;33m,\u001b[0m \u001b[0mcallback\u001b[0m\u001b[1;33m=\u001b[0m\u001b[1;32mNone\u001b[0m\u001b[1;33m)\u001b[0m\u001b[1;33m:\u001b[0m\u001b[1;33m\u001b[0m\u001b[1;33m\u001b[0m\u001b[0m\n\u001b[0;32m    207\u001b[0m         \u001b[1;34m\"\"\"Schedule a func to be run\"\"\"\u001b[0m\u001b[1;33m\u001b[0m\u001b[1;33m\u001b[0m\u001b[0m\n\u001b[1;32m--> 208\u001b[1;33m         \u001b[0mresult\u001b[0m \u001b[1;33m=\u001b[0m \u001b[0mImmediateResult\u001b[0m\u001b[1;33m(\u001b[0m\u001b[0mfunc\u001b[0m\u001b[1;33m)\u001b[0m\u001b[1;33m\u001b[0m\u001b[1;33m\u001b[0m\u001b[0m\n\u001b[0m\u001b[0;32m    209\u001b[0m         \u001b[1;32mif\u001b[0m \u001b[0mcallback\u001b[0m\u001b[1;33m:\u001b[0m\u001b[1;33m\u001b[0m\u001b[1;33m\u001b[0m\u001b[0m\n\u001b[0;32m    210\u001b[0m             \u001b[0mcallback\u001b[0m\u001b[1;33m(\u001b[0m\u001b[0mresult\u001b[0m\u001b[1;33m)\u001b[0m\u001b[1;33m\u001b[0m\u001b[1;33m\u001b[0m\u001b[0m\n",
      "\u001b[1;32mC:\\ProgramData\\Anaconda3\\lib\\site-packages\\joblib\\_parallel_backends.py\u001b[0m in \u001b[0;36m__init__\u001b[1;34m(self, batch)\u001b[0m\n\u001b[0;32m    570\u001b[0m         \u001b[1;31m# Don't delay the application, to avoid keeping the input\u001b[0m\u001b[1;33m\u001b[0m\u001b[1;33m\u001b[0m\u001b[1;33m\u001b[0m\u001b[0m\n\u001b[0;32m    571\u001b[0m         \u001b[1;31m# arguments in memory\u001b[0m\u001b[1;33m\u001b[0m\u001b[1;33m\u001b[0m\u001b[1;33m\u001b[0m\u001b[0m\n\u001b[1;32m--> 572\u001b[1;33m         \u001b[0mself\u001b[0m\u001b[1;33m.\u001b[0m\u001b[0mresults\u001b[0m \u001b[1;33m=\u001b[0m \u001b[0mbatch\u001b[0m\u001b[1;33m(\u001b[0m\u001b[1;33m)\u001b[0m\u001b[1;33m\u001b[0m\u001b[1;33m\u001b[0m\u001b[0m\n\u001b[0m\u001b[0;32m    573\u001b[0m \u001b[1;33m\u001b[0m\u001b[0m\n\u001b[0;32m    574\u001b[0m     \u001b[1;32mdef\u001b[0m \u001b[0mget\u001b[0m\u001b[1;33m(\u001b[0m\u001b[0mself\u001b[0m\u001b[1;33m)\u001b[0m\u001b[1;33m:\u001b[0m\u001b[1;33m\u001b[0m\u001b[1;33m\u001b[0m\u001b[0m\n",
      "\u001b[1;32mC:\\ProgramData\\Anaconda3\\lib\\site-packages\\joblib\\parallel.py\u001b[0m in \u001b[0;36m__call__\u001b[1;34m(self)\u001b[0m\n\u001b[0;32m    260\u001b[0m         \u001b[1;31m# change the default number of processes to -1\u001b[0m\u001b[1;33m\u001b[0m\u001b[1;33m\u001b[0m\u001b[1;33m\u001b[0m\u001b[0m\n\u001b[0;32m    261\u001b[0m         \u001b[1;32mwith\u001b[0m \u001b[0mparallel_backend\u001b[0m\u001b[1;33m(\u001b[0m\u001b[0mself\u001b[0m\u001b[1;33m.\u001b[0m\u001b[0m_backend\u001b[0m\u001b[1;33m,\u001b[0m \u001b[0mn_jobs\u001b[0m\u001b[1;33m=\u001b[0m\u001b[0mself\u001b[0m\u001b[1;33m.\u001b[0m\u001b[0m_n_jobs\u001b[0m\u001b[1;33m)\u001b[0m\u001b[1;33m:\u001b[0m\u001b[1;33m\u001b[0m\u001b[1;33m\u001b[0m\u001b[0m\n\u001b[1;32m--> 262\u001b[1;33m             return [func(*args, **kwargs)\n\u001b[0m\u001b[0;32m    263\u001b[0m                     for func, args, kwargs in self.items]\n\u001b[0;32m    264\u001b[0m \u001b[1;33m\u001b[0m\u001b[0m\n",
      "\u001b[1;32mC:\\ProgramData\\Anaconda3\\lib\\site-packages\\joblib\\parallel.py\u001b[0m in \u001b[0;36m<listcomp>\u001b[1;34m(.0)\u001b[0m\n\u001b[0;32m    260\u001b[0m         \u001b[1;31m# change the default number of processes to -1\u001b[0m\u001b[1;33m\u001b[0m\u001b[1;33m\u001b[0m\u001b[1;33m\u001b[0m\u001b[0m\n\u001b[0;32m    261\u001b[0m         \u001b[1;32mwith\u001b[0m \u001b[0mparallel_backend\u001b[0m\u001b[1;33m(\u001b[0m\u001b[0mself\u001b[0m\u001b[1;33m.\u001b[0m\u001b[0m_backend\u001b[0m\u001b[1;33m,\u001b[0m \u001b[0mn_jobs\u001b[0m\u001b[1;33m=\u001b[0m\u001b[0mself\u001b[0m\u001b[1;33m.\u001b[0m\u001b[0m_n_jobs\u001b[0m\u001b[1;33m)\u001b[0m\u001b[1;33m:\u001b[0m\u001b[1;33m\u001b[0m\u001b[1;33m\u001b[0m\u001b[0m\n\u001b[1;32m--> 262\u001b[1;33m             return [func(*args, **kwargs)\n\u001b[0m\u001b[0;32m    263\u001b[0m                     for func, args, kwargs in self.items]\n\u001b[0;32m    264\u001b[0m \u001b[1;33m\u001b[0m\u001b[0m\n",
      "\u001b[1;32mC:\\ProgramData\\Anaconda3\\lib\\site-packages\\sklearn\\utils\\fixes.py\u001b[0m in \u001b[0;36m__call__\u001b[1;34m(self, *args, **kwargs)\u001b[0m\n\u001b[0;32m    220\u001b[0m     \u001b[1;32mdef\u001b[0m \u001b[0m__call__\u001b[0m\u001b[1;33m(\u001b[0m\u001b[0mself\u001b[0m\u001b[1;33m,\u001b[0m \u001b[1;33m*\u001b[0m\u001b[0margs\u001b[0m\u001b[1;33m,\u001b[0m \u001b[1;33m**\u001b[0m\u001b[0mkwargs\u001b[0m\u001b[1;33m)\u001b[0m\u001b[1;33m:\u001b[0m\u001b[1;33m\u001b[0m\u001b[1;33m\u001b[0m\u001b[0m\n\u001b[0;32m    221\u001b[0m         \u001b[1;32mwith\u001b[0m \u001b[0mconfig_context\u001b[0m\u001b[1;33m(\u001b[0m\u001b[1;33m**\u001b[0m\u001b[0mself\u001b[0m\u001b[1;33m.\u001b[0m\u001b[0mconfig\u001b[0m\u001b[1;33m)\u001b[0m\u001b[1;33m:\u001b[0m\u001b[1;33m\u001b[0m\u001b[1;33m\u001b[0m\u001b[0m\n\u001b[1;32m--> 222\u001b[1;33m             \u001b[1;32mreturn\u001b[0m \u001b[0mself\u001b[0m\u001b[1;33m.\u001b[0m\u001b[0mfunction\u001b[0m\u001b[1;33m(\u001b[0m\u001b[1;33m*\u001b[0m\u001b[0margs\u001b[0m\u001b[1;33m,\u001b[0m \u001b[1;33m**\u001b[0m\u001b[0mkwargs\u001b[0m\u001b[1;33m)\u001b[0m\u001b[1;33m\u001b[0m\u001b[1;33m\u001b[0m\u001b[0m\n\u001b[0m",
      "\u001b[1;32mC:\\ProgramData\\Anaconda3\\lib\\site-packages\\sklearn\\ensemble\\_bagging.py\u001b[0m in \u001b[0;36m_parallel_build_estimators\u001b[1;34m(n_estimators, ensemble, X, y, sample_weight, seeds, total_n_estimators, verbose)\u001b[0m\n\u001b[0;32m    109\u001b[0m                 \u001b[0mcurr_sample_weight\u001b[0m\u001b[1;33m[\u001b[0m\u001b[0mnot_indices_mask\u001b[0m\u001b[1;33m]\u001b[0m \u001b[1;33m=\u001b[0m \u001b[1;36m0\u001b[0m\u001b[1;33m\u001b[0m\u001b[1;33m\u001b[0m\u001b[0m\n\u001b[0;32m    110\u001b[0m \u001b[1;33m\u001b[0m\u001b[0m\n\u001b[1;32m--> 111\u001b[1;33m             \u001b[0mestimator\u001b[0m\u001b[1;33m.\u001b[0m\u001b[0mfit\u001b[0m\u001b[1;33m(\u001b[0m\u001b[0mX\u001b[0m\u001b[1;33m[\u001b[0m\u001b[1;33m:\u001b[0m\u001b[1;33m,\u001b[0m \u001b[0mfeatures\u001b[0m\u001b[1;33m]\u001b[0m\u001b[1;33m,\u001b[0m \u001b[0my\u001b[0m\u001b[1;33m,\u001b[0m \u001b[0msample_weight\u001b[0m\u001b[1;33m=\u001b[0m\u001b[0mcurr_sample_weight\u001b[0m\u001b[1;33m)\u001b[0m\u001b[1;33m\u001b[0m\u001b[1;33m\u001b[0m\u001b[0m\n\u001b[0m\u001b[0;32m    112\u001b[0m \u001b[1;33m\u001b[0m\u001b[0m\n\u001b[0;32m    113\u001b[0m         \u001b[1;32melse\u001b[0m\u001b[1;33m:\u001b[0m\u001b[1;33m\u001b[0m\u001b[1;33m\u001b[0m\u001b[0m\n",
      "\u001b[1;32mC:\\ProgramData\\Anaconda3\\lib\\site-packages\\sklearn\\tree\\_classes.py\u001b[0m in \u001b[0;36mfit\u001b[1;34m(self, X, y, sample_weight, check_input, X_idx_sorted)\u001b[0m\n\u001b[0;32m   1245\u001b[0m         \"\"\"\n\u001b[0;32m   1246\u001b[0m \u001b[1;33m\u001b[0m\u001b[0m\n\u001b[1;32m-> 1247\u001b[1;33m         super().fit(\n\u001b[0m\u001b[0;32m   1248\u001b[0m             \u001b[0mX\u001b[0m\u001b[1;33m,\u001b[0m \u001b[0my\u001b[0m\u001b[1;33m,\u001b[0m\u001b[1;33m\u001b[0m\u001b[1;33m\u001b[0m\u001b[0m\n\u001b[0;32m   1249\u001b[0m             \u001b[0msample_weight\u001b[0m\u001b[1;33m=\u001b[0m\u001b[0msample_weight\u001b[0m\u001b[1;33m,\u001b[0m\u001b[1;33m\u001b[0m\u001b[1;33m\u001b[0m\u001b[0m\n",
      "\u001b[1;32mC:\\ProgramData\\Anaconda3\\lib\\site-packages\\sklearn\\tree\\_classes.py\u001b[0m in \u001b[0;36mfit\u001b[1;34m(self, X, y, sample_weight, check_input, X_idx_sorted)\u001b[0m\n\u001b[0;32m    387\u001b[0m                                            min_impurity_split)\n\u001b[0;32m    388\u001b[0m \u001b[1;33m\u001b[0m\u001b[0m\n\u001b[1;32m--> 389\u001b[1;33m         \u001b[0mbuilder\u001b[0m\u001b[1;33m.\u001b[0m\u001b[0mbuild\u001b[0m\u001b[1;33m(\u001b[0m\u001b[0mself\u001b[0m\u001b[1;33m.\u001b[0m\u001b[0mtree_\u001b[0m\u001b[1;33m,\u001b[0m \u001b[0mX\u001b[0m\u001b[1;33m,\u001b[0m \u001b[0my\u001b[0m\u001b[1;33m,\u001b[0m \u001b[0msample_weight\u001b[0m\u001b[1;33m)\u001b[0m\u001b[1;33m\u001b[0m\u001b[1;33m\u001b[0m\u001b[0m\n\u001b[0m\u001b[0;32m    390\u001b[0m \u001b[1;33m\u001b[0m\u001b[0m\n\u001b[0;32m    391\u001b[0m         \u001b[1;32mif\u001b[0m \u001b[0mself\u001b[0m\u001b[1;33m.\u001b[0m\u001b[0mn_outputs_\u001b[0m \u001b[1;33m==\u001b[0m \u001b[1;36m1\u001b[0m \u001b[1;32mand\u001b[0m \u001b[0mis_classifier\u001b[0m\u001b[1;33m(\u001b[0m\u001b[0mself\u001b[0m\u001b[1;33m)\u001b[0m\u001b[1;33m:\u001b[0m\u001b[1;33m\u001b[0m\u001b[1;33m\u001b[0m\u001b[0m\n",
      "\u001b[1;31mKeyboardInterrupt\u001b[0m: "
     ]
    }
   ],
   "source": [
    "#Running the for loop to get best esimator from bagging regressor model\n",
    "for i in range(1,5000,100):  # Try 1 to 20 with the gap of 1.\n",
    "    bag = BaggingRegressor(oob_score=True, n_estimators=i, random_state=10, \n",
    "                        base_estimator=DecisionTreeRegressor())\n",
    "    bag.fit(X_train, Y_train)\n",
    "    oob = bag.oob_score_  \n",
    "    print(\" the number of estimators = \", str(i))\n",
    "    print(\"Out of bage score is\", str(oob))\n",
    "    print(\"----------------------------------\")"
   ]
  },
  {
   "cell_type": "code",
   "execution_count": 120,
   "id": "9ab720b5",
   "metadata": {},
   "outputs": [
    {
     "data": {
      "text/plain": [
       "0.825621614158716"
      ]
     },
     "execution_count": 120,
     "metadata": {},
     "output_type": "execute_result"
    }
   ],
   "source": [
    "#Making the BaggingRegressor model taking the n_estimators= 30 and random_state=100.\n",
    "bag = BaggingRegressor(oob_score=True, n_estimators= 21, random_state=10, \n",
    "                        base_estimator=DecisionTreeRegressor())\n",
    "bag.fit(X_train, Y_train)\n",
    "bag.score(X_train, Y_train)"
   ]
  },
  {
   "cell_type": "code",
   "execution_count": 121,
   "id": "c1b23a30",
   "metadata": {},
   "outputs": [],
   "source": [
    "# We predict the value on the X_test with the help of Bagging model.\n",
    "predict_bag = bag.predict(X_test)"
   ]
  },
  {
   "cell_type": "code",
   "execution_count": 122,
   "id": "a2760284",
   "metadata": {},
   "outputs": [
    {
     "data": {
      "text/plain": [
       "array([2995.08918672, 1874.47758625, 2130.79929811, ..., 5885.75774703,\n",
       "       6726.21644739,  776.78758669])"
      ]
     },
     "execution_count": 122,
     "metadata": {},
     "output_type": "execute_result"
    }
   ],
   "source": [
    "predict_bag"
   ]
  },
  {
   "cell_type": "code",
   "execution_count": 123,
   "id": "18c8e551",
   "metadata": {},
   "outputs": [
    {
     "data": {
      "text/html": [
       "<div>\n",
       "<style scoped>\n",
       "    .dataframe tbody tr th:only-of-type {\n",
       "        vertical-align: middle;\n",
       "    }\n",
       "\n",
       "    .dataframe tbody tr th {\n",
       "        vertical-align: top;\n",
       "    }\n",
       "\n",
       "    .dataframe thead th {\n",
       "        text-align: right;\n",
       "    }\n",
       "</style>\n",
       "<table border=\"1\" class=\"dataframe\">\n",
       "  <thead>\n",
       "    <tr style=\"text-align: right;\">\n",
       "      <th></th>\n",
       "      <th>CLTV</th>\n",
       "    </tr>\n",
       "  </thead>\n",
       "  <tbody>\n",
       "    <tr>\n",
       "      <th>1122</th>\n",
       "      <td>1711.479535</td>\n",
       "    </tr>\n",
       "    <tr>\n",
       "      <th>4867</th>\n",
       "      <td>213.934942</td>\n",
       "    </tr>\n",
       "    <tr>\n",
       "      <th>4483</th>\n",
       "      <td>320.902413</td>\n",
       "    </tr>\n",
       "    <tr>\n",
       "      <th>3683</th>\n",
       "      <td>12461.710366</td>\n",
       "    </tr>\n",
       "    <tr>\n",
       "      <th>2125</th>\n",
       "      <td>8236.495263</td>\n",
       "    </tr>\n",
       "  </tbody>\n",
       "</table>\n",
       "</div>"
      ],
      "text/plain": [
       "              CLTV\n",
       "1122   1711.479535\n",
       "4867    213.934942\n",
       "4483    320.902413\n",
       "3683  12461.710366\n",
       "2125   8236.495263"
      ]
     },
     "execution_count": 123,
     "metadata": {},
     "output_type": "execute_result"
    }
   ],
   "source": [
    "#bag.score(predict_bag, Y_test)\n",
    "Y_test.head()"
   ]
  },
  {
   "cell_type": "code",
   "execution_count": 124,
   "id": "5b75083b",
   "metadata": {},
   "outputs": [
    {
     "data": {
      "text/html": [
       "<div>\n",
       "<style scoped>\n",
       "    .dataframe tbody tr th:only-of-type {\n",
       "        vertical-align: middle;\n",
       "    }\n",
       "\n",
       "    .dataframe tbody tr th {\n",
       "        vertical-align: top;\n",
       "    }\n",
       "\n",
       "    .dataframe thead th {\n",
       "        text-align: right;\n",
       "    }\n",
       "</style>\n",
       "<table border=\"1\" class=\"dataframe\">\n",
       "  <thead>\n",
       "    <tr style=\"text-align: right;\">\n",
       "      <th></th>\n",
       "      <th>Recency</th>\n",
       "      <th>Frequency</th>\n",
       "      <th>Monetary</th>\n",
       "    </tr>\n",
       "  </thead>\n",
       "  <tbody>\n",
       "    <tr>\n",
       "      <th>1122</th>\n",
       "      <td>103.0</td>\n",
       "      <td>4</td>\n",
       "      <td>39943.0</td>\n",
       "    </tr>\n",
       "    <tr>\n",
       "      <th>4867</th>\n",
       "      <td>10.0</td>\n",
       "      <td>2</td>\n",
       "      <td>1866.0</td>\n",
       "    </tr>\n",
       "    <tr>\n",
       "      <th>4483</th>\n",
       "      <td>40.0</td>\n",
       "      <td>1</td>\n",
       "      <td>12599.0</td>\n",
       "    </tr>\n",
       "    <tr>\n",
       "      <th>3683</th>\n",
       "      <td>68.0</td>\n",
       "      <td>2</td>\n",
       "      <td>2774.0</td>\n",
       "    </tr>\n",
       "    <tr>\n",
       "      <th>2125</th>\n",
       "      <td>187.0</td>\n",
       "      <td>2</td>\n",
       "      <td>2199.0</td>\n",
       "    </tr>\n",
       "  </tbody>\n",
       "</table>\n",
       "</div>"
      ],
      "text/plain": [
       "      Recency  Frequency  Monetary\n",
       "1122    103.0          4   39943.0\n",
       "4867     10.0          2    1866.0\n",
       "4483     40.0          1   12599.0\n",
       "3683     68.0          2    2774.0\n",
       "2125    187.0          2    2199.0"
      ]
     },
     "execution_count": 124,
     "metadata": {},
     "output_type": "execute_result"
    }
   ],
   "source": [
    "X_test.head()"
   ]
  },
  {
   "cell_type": "code",
   "execution_count": 125,
   "id": "c4faa846",
   "metadata": {},
   "outputs": [
    {
     "data": {
      "text/html": [
       "<div>\n",
       "<style scoped>\n",
       "    .dataframe tbody tr th:only-of-type {\n",
       "        vertical-align: middle;\n",
       "    }\n",
       "\n",
       "    .dataframe tbody tr th {\n",
       "        vertical-align: top;\n",
       "    }\n",
       "\n",
       "    .dataframe thead th {\n",
       "        text-align: right;\n",
       "    }\n",
       "</style>\n",
       "<table border=\"1\" class=\"dataframe\">\n",
       "  <thead>\n",
       "    <tr style=\"text-align: right;\">\n",
       "      <th></th>\n",
       "      <th>customer_id</th>\n",
       "      <th>Recency</th>\n",
       "      <th>Frequency</th>\n",
       "      <th>Monetary</th>\n",
       "      <th>CLTV</th>\n",
       "    </tr>\n",
       "  </thead>\n",
       "  <tbody>\n",
       "    <tr>\n",
       "      <th>0</th>\n",
       "      <td>4</td>\n",
       "      <td>36.0</td>\n",
       "      <td>211</td>\n",
       "      <td>989663.0</td>\n",
       "      <td>5936.694638</td>\n",
       "    </tr>\n",
       "    <tr>\n",
       "      <th>1</th>\n",
       "      <td>15</td>\n",
       "      <td>5.0</td>\n",
       "      <td>8</td>\n",
       "      <td>14389.0</td>\n",
       "      <td>9573.588650</td>\n",
       "    </tr>\n",
       "    <tr>\n",
       "      <th>2</th>\n",
       "      <td>20</td>\n",
       "      <td>19.0</td>\n",
       "      <td>203</td>\n",
       "      <td>1455429.0</td>\n",
       "      <td>11819.905540</td>\n",
       "    </tr>\n",
       "    <tr>\n",
       "      <th>3</th>\n",
       "      <td>21</td>\n",
       "      <td>215.0</td>\n",
       "      <td>4</td>\n",
       "      <td>40122.0</td>\n",
       "      <td>8450.430205</td>\n",
       "    </tr>\n",
       "    <tr>\n",
       "      <th>4</th>\n",
       "      <td>23</td>\n",
       "      <td>119.0</td>\n",
       "      <td>11</td>\n",
       "      <td>24116.0</td>\n",
       "      <td>0.000000</td>\n",
       "    </tr>\n",
       "  </tbody>\n",
       "</table>\n",
       "</div>"
      ],
      "text/plain": [
       "   customer_id  Recency  Frequency   Monetary          CLTV\n",
       "0            4     36.0        211   989663.0   5936.694638\n",
       "1           15      5.0          8    14389.0   9573.588650\n",
       "2           20     19.0        203  1455429.0  11819.905540\n",
       "3           21    215.0          4    40122.0   8450.430205\n",
       "4           23    119.0         11    24116.0      0.000000"
      ]
     },
     "execution_count": 125,
     "metadata": {},
     "output_type": "execute_result"
    }
   ],
   "source": [
    "df_final1.head()"
   ]
  },
  {
   "cell_type": "code",
   "execution_count": 126,
   "id": "ed205bec",
   "metadata": {},
   "outputs": [
    {
     "data": {
      "text/plain": [
       "(4941, 5)"
      ]
     },
     "execution_count": 126,
     "metadata": {},
     "output_type": "execute_result"
    }
   ],
   "source": [
    "df_final1.shape"
   ]
  },
  {
   "cell_type": "code",
   "execution_count": 127,
   "id": "7022fdf8",
   "metadata": {},
   "outputs": [
    {
     "data": {
      "text/plain": [
       "count     4941.000000\n",
       "mean      2545.094074\n",
       "std       4186.983690\n",
       "min          0.000000\n",
       "25%          0.000000\n",
       "50%          0.000000\n",
       "75%       4492.633780\n",
       "max      16633.441733\n",
       "Name: CLTV, dtype: float64"
      ]
     },
     "execution_count": 127,
     "metadata": {},
     "output_type": "execute_result"
    }
   ],
   "source": [
    "df_final1['CLTV'].describe()"
   ]
  },
  {
   "cell_type": "code",
   "execution_count": 128,
   "id": "c0404f9e",
   "metadata": {},
   "outputs": [
    {
     "data": {
      "text/plain": [
       "customer_id    0\n",
       "Recency        0\n",
       "Frequency      0\n",
       "Monetary       0\n",
       "CLTV           0\n",
       "dtype: int64"
      ]
     },
     "execution_count": 128,
     "metadata": {},
     "output_type": "execute_result"
    }
   ],
   "source": [
    "df_final1.isnull().sum()"
   ]
  },
  {
   "cell_type": "code",
   "execution_count": 129,
   "id": "9db2884c",
   "metadata": {},
   "outputs": [
    {
     "data": {
      "text/plain": [
       "267.4186773857374"
      ]
     },
     "execution_count": 129,
     "metadata": {},
     "output_type": "execute_result"
    }
   ],
   "source": [
    "np.percentile(df_final1['CLTV'],60)"
   ]
  },
  {
   "cell_type": "code",
   "execution_count": 282,
   "id": "907504db",
   "metadata": {},
   "outputs": [
    {
     "data": {
      "text/plain": [
       "2246.3168900401943"
      ]
     },
     "execution_count": 282,
     "metadata": {},
     "output_type": "execute_result"
    }
   ],
   "source": [
    "np.percentile(df_final1['CLTV'],70)"
   ]
  },
  {
   "cell_type": "code",
   "execution_count": 235,
   "id": "c74db452",
   "metadata": {},
   "outputs": [
    {
     "data": {
      "text/plain": [
       "customer_id    1483\n",
       "Recency        1483\n",
       "Frequency      1483\n",
       "Monetary       1483\n",
       "CLTV           1483\n",
       "CLTV_Cat       1483\n",
       "dtype: int64"
      ]
     },
     "execution_count": 235,
     "metadata": {},
     "output_type": "execute_result"
    }
   ],
   "source": [
    "df_final1[df_final1['CLTV']>=2246].count()"
   ]
  },
  {
   "cell_type": "code",
   "execution_count": 283,
   "id": "f05c9259",
   "metadata": {},
   "outputs": [],
   "source": [
    "#df_final1.loc[(df_final1['CLTV'] > 267) & (df_final1['CLTV'] <= 4492), 'CLTV_Cat'] = 'Medium'\n",
    "df_final1.loc[(df_final1['CLTV'] > 2246), 'CLTV_Cat'] = 'High'\n",
    "df_final1.loc[(df_final1['CLTV'] <= 2246), 'CLTV_Cat'] = 'Low'"
   ]
  },
  {
   "cell_type": "code",
   "execution_count": 284,
   "id": "2b2ef13e",
   "metadata": {},
   "outputs": [
    {
     "data": {
      "text/html": [
       "<div>\n",
       "<style scoped>\n",
       "    .dataframe tbody tr th:only-of-type {\n",
       "        vertical-align: middle;\n",
       "    }\n",
       "\n",
       "    .dataframe tbody tr th {\n",
       "        vertical-align: top;\n",
       "    }\n",
       "\n",
       "    .dataframe thead th {\n",
       "        text-align: right;\n",
       "    }\n",
       "</style>\n",
       "<table border=\"1\" class=\"dataframe\">\n",
       "  <thead>\n",
       "    <tr style=\"text-align: right;\">\n",
       "      <th></th>\n",
       "      <th>customer_id</th>\n",
       "      <th>Recency</th>\n",
       "      <th>Frequency</th>\n",
       "      <th>Monetary</th>\n",
       "      <th>CLTV</th>\n",
       "      <th>CLTV_Cat</th>\n",
       "    </tr>\n",
       "  </thead>\n",
       "  <tbody>\n",
       "    <tr>\n",
       "      <th>0</th>\n",
       "      <td>4</td>\n",
       "      <td>36.0</td>\n",
       "      <td>211</td>\n",
       "      <td>989663.0</td>\n",
       "      <td>5936.694638</td>\n",
       "      <td>High</td>\n",
       "    </tr>\n",
       "    <tr>\n",
       "      <th>1</th>\n",
       "      <td>15</td>\n",
       "      <td>5.0</td>\n",
       "      <td>8</td>\n",
       "      <td>14389.0</td>\n",
       "      <td>9573.588650</td>\n",
       "      <td>High</td>\n",
       "    </tr>\n",
       "    <tr>\n",
       "      <th>2</th>\n",
       "      <td>20</td>\n",
       "      <td>19.0</td>\n",
       "      <td>203</td>\n",
       "      <td>1455429.0</td>\n",
       "      <td>11819.905540</td>\n",
       "      <td>High</td>\n",
       "    </tr>\n",
       "    <tr>\n",
       "      <th>3</th>\n",
       "      <td>21</td>\n",
       "      <td>215.0</td>\n",
       "      <td>4</td>\n",
       "      <td>40122.0</td>\n",
       "      <td>8450.430205</td>\n",
       "      <td>High</td>\n",
       "    </tr>\n",
       "    <tr>\n",
       "      <th>4</th>\n",
       "      <td>23</td>\n",
       "      <td>119.0</td>\n",
       "      <td>11</td>\n",
       "      <td>24116.0</td>\n",
       "      <td>0.000000</td>\n",
       "      <td>Low</td>\n",
       "    </tr>\n",
       "  </tbody>\n",
       "</table>\n",
       "</div>"
      ],
      "text/plain": [
       "   customer_id  Recency  Frequency   Monetary          CLTV CLTV_Cat\n",
       "0            4     36.0        211   989663.0   5936.694638     High\n",
       "1           15      5.0          8    14389.0   9573.588650     High\n",
       "2           20     19.0        203  1455429.0  11819.905540     High\n",
       "3           21    215.0          4    40122.0   8450.430205     High\n",
       "4           23    119.0         11    24116.0      0.000000      Low"
      ]
     },
     "execution_count": 284,
     "metadata": {},
     "output_type": "execute_result"
    }
   ],
   "source": [
    "df_final1.head()"
   ]
  },
  {
   "cell_type": "code",
   "execution_count": 285,
   "id": "da0469c7",
   "metadata": {},
   "outputs": [],
   "source": [
    "#Creating X and Y as feature set and target variable set.\n",
    "X = df_final1.drop([\"customer_id\", \"CLTV\",\"CLTV_Cat\"], axis = 1)\n",
    "Y = df_final1[\"CLTV_Cat\"]\n",
    "Y = pd.DataFrame(Y)"
   ]
  },
  {
   "cell_type": "code",
   "execution_count": 286,
   "id": "62cb1424",
   "metadata": {},
   "outputs": [],
   "source": [
    "from sklearn.model_selection import train_test_split\n",
    "X_train, X_test, Y_train, Y_test = train_test_split(X, Y, test_size=0.3, random_state=10)"
   ]
  },
  {
   "cell_type": "code",
   "execution_count": 287,
   "id": "2fcaa1f6",
   "metadata": {},
   "outputs": [
    {
     "name": "stdout",
     "output_type": "stream",
     "text": [
      "(4941, 3)\n",
      "(4941, 1)\n",
      "(3458, 3)\n",
      "(3458, 1)\n",
      "(1483, 3)\n",
      "(1483, 1)\n"
     ]
    }
   ],
   "source": [
    "print(X.shape)\n",
    "print(Y.shape)\n",
    "print(X_train.shape)\n",
    "print(Y_train.shape)\n",
    "print(X_test.shape)\n",
    "print(Y_test.shape)"
   ]
  },
  {
   "cell_type": "code",
   "execution_count": 288,
   "id": "1aecbf46",
   "metadata": {},
   "outputs": [],
   "source": [
    "from sklearn.ensemble import RandomForestClassifier\n",
    "rfc = RandomForestClassifier(n_estimators=200, random_state=100)"
   ]
  },
  {
   "cell_type": "code",
   "execution_count": 289,
   "id": "e96cf4a5",
   "metadata": {},
   "outputs": [
    {
     "data": {
      "text/plain": [
       "RandomForestClassifier(n_estimators=200, random_state=100)"
      ]
     },
     "execution_count": 289,
     "metadata": {},
     "output_type": "execute_result"
    }
   ],
   "source": [
    "# Let's fit the with training dataset \n",
    "rfc.fit(X_train, Y_train)"
   ]
  },
  {
   "cell_type": "code",
   "execution_count": 290,
   "id": "b3ca5e68",
   "metadata": {},
   "outputs": [
    {
     "data": {
      "text/plain": [
       "0.9901677270098322"
      ]
     },
     "execution_count": 290,
     "metadata": {},
     "output_type": "execute_result"
    }
   ],
   "source": [
    "rfc.score(X_train, Y_train)"
   ]
  },
  {
   "cell_type": "code",
   "execution_count": 291,
   "id": "d39e6799",
   "metadata": {},
   "outputs": [],
   "source": [
    "Predictions1 = rfc.predict(X_test)"
   ]
  },
  {
   "cell_type": "code",
   "execution_count": 292,
   "id": "ce3afa54",
   "metadata": {},
   "outputs": [],
   "source": [
    "#!pip install mlxtend"
   ]
  },
  {
   "cell_type": "code",
   "execution_count": 293,
   "id": "80616d77",
   "metadata": {},
   "outputs": [],
   "source": [
    "from mlxtend.plotting import plot_confusion_matrix\n",
    "from sklearn.metrics import confusion_matrix"
   ]
  },
  {
   "cell_type": "code",
   "execution_count": 294,
   "id": "2367b97c",
   "metadata": {},
   "outputs": [
    {
     "data": {
      "text/plain": [
       "array([[153, 314],\n",
       "       [179, 837]], dtype=int64)"
      ]
     },
     "execution_count": 294,
     "metadata": {},
     "output_type": "execute_result"
    }
   ],
   "source": [
    "conf_matrix = confusion_matrix(Y_test, Predictions1)\n",
    "conf_matrix"
   ]
  },
  {
   "cell_type": "code",
   "execution_count": 295,
   "id": "ac38ec3a",
   "metadata": {},
   "outputs": [],
   "source": [
    "#pip install --exists-action=i scikit-learn"
   ]
  },
  {
   "cell_type": "code",
   "execution_count": 296,
   "id": "162d8745",
   "metadata": {},
   "outputs": [],
   "source": [
    "#import scikit-learn as sklearn\n",
    "from sklearn import metrics"
   ]
  },
  {
   "cell_type": "code",
   "execution_count": 297,
   "id": "7b3a471c",
   "metadata": {},
   "outputs": [
    {
     "data": {
      "text/plain": [
       "0.667565745111261"
      ]
     },
     "execution_count": 297,
     "metadata": {},
     "output_type": "execute_result"
    }
   ],
   "source": [
    "rfc.score(X_test, Y_test)  # Accuracy on test dataset "
   ]
  },
  {
   "cell_type": "code",
   "execution_count": 298,
   "id": "4f1def49",
   "metadata": {},
   "outputs": [
    {
     "name": "stdout",
     "output_type": "stream",
     "text": [
      " the number of estimators =  10\n",
      "Out of bage score is 0.6327356853672643\n",
      "----------------------------------\n",
      " the number of estimators =  110\n",
      "Out of bage score is 0.6764025448235974\n",
      "----------------------------------\n",
      " the number of estimators =  210\n",
      "Out of bage score is 0.6706188548293811\n",
      "----------------------------------\n",
      " the number of estimators =  310\n",
      "Out of bage score is 0.6726431463273569\n",
      "----------------------------------\n",
      " the number of estimators =  410\n",
      "Out of bage score is 0.6723539618276461\n",
      "----------------------------------\n",
      " the number of estimators =  510\n",
      "Out of bage score is 0.6717755928282244\n",
      "----------------------------------\n",
      " the number of estimators =  610\n",
      "Out of bage score is 0.6749566223250434\n",
      "----------------------------------\n",
      " the number of estimators =  710\n",
      "Out of bage score is 0.6737998843262001\n",
      "----------------------------------\n",
      " the number of estimators =  810\n",
      "Out of bage score is 0.6758241758241759\n",
      "----------------------------------\n",
      " the number of estimators =  910\n",
      "Out of bage score is 0.675534991324465\n",
      "----------------------------------\n"
     ]
    }
   ],
   "source": [
    "# Hyper parameter tuning for random forest \n",
    "for i in range(10,1000,100):  # Try 10, 30,50, 70, 90.... 300\n",
    "    clf = RandomForestClassifier(oob_score=True, n_estimators=i, random_state=300)\n",
    "    clf.fit(X_train, Y_train)\n",
    "    oob = clf.oob_score_  \n",
    "    print(\" the number of estimators = \", str(i))\n",
    "    print(\"Out of bage score is\", str(oob))\n",
    "    print(\"----------------------------------\")\n",
    "    ##OOB score is max at 310"
   ]
  },
  {
   "cell_type": "code",
   "execution_count": 299,
   "id": "d83c9afc",
   "metadata": {},
   "outputs": [
    {
     "name": "stdout",
     "output_type": "stream",
     "text": [
      " the number of estimators =  510\n",
      "Out of bage score is 0.6717755928282244\n",
      "----------------------------------\n"
     ]
    }
   ],
   "source": [
    "# Hyper parameter tuning for random forest \n",
    "#for n_estimators 310 where OOB score was max with 0.779\n",
    "clf = RandomForestClassifier(oob_score=True, n_estimators=510, random_state=300)\n",
    "clf.fit(X_train, Y_train)\n",
    "oob = clf.oob_score_  \n",
    "print(\" the number of estimators = \", str(510))\n",
    "print(\"Out of bage score is\", str(oob))\n",
    "print(\"----------------------------------\")\n"
   ]
  },
  {
   "cell_type": "code",
   "execution_count": 300,
   "id": "09e9a2a8",
   "metadata": {},
   "outputs": [],
   "source": [
    "from sklearn.metrics import classification_report"
   ]
  },
  {
   "cell_type": "code",
   "execution_count": 301,
   "id": "96ec05c6",
   "metadata": {},
   "outputs": [
    {
     "name": "stdout",
     "output_type": "stream",
     "text": [
      "[15:11:30] WARNING: C:/Users/Administrator/workspace/xgboost-win64_release_1.5.1/src/learner.cc:1115: Starting in XGBoost 1.3.0, the default evaluation metric used with the objective 'binary:logistic' was changed from 'error' to 'logloss'. Explicitly set eval_metric if you'd like to restore the old behavior.\n",
      "Accuracy of XGB classifier on training set: 0.79\n",
      "Accuracy of XGB classifier on test set: 0.71\n",
      "              precision    recall  f1-score   support\n",
      "\n",
      "        High       0.58      0.28      0.37       467\n",
      "         Low       0.73      0.91      0.81      1016\n",
      "\n",
      "    accuracy                           0.71      1483\n",
      "   macro avg       0.65      0.59      0.59      1483\n",
      "weighted avg       0.68      0.71      0.67      1483\n",
      "\n"
     ]
    }
   ],
   "source": [
    "#XGBoost Multiclassification Model\n",
    "ltv_xgb_model = xgb.XGBClassifier(max_depth=5, learning_rate=0.1,objective= 'binary:logistic',n_jobs=-1).fit(X_train, Y_train)\n",
    "\n",
    "print('Accuracy of XGB classifier on training set: {:.2f}'\n",
    "       .format(ltv_xgb_model.score(X_train, Y_train)))\n",
    "print('Accuracy of XGB classifier on test set: {:.2f}'\n",
    "       .format(ltv_xgb_model.score(X_test[X_train.columns], Y_test)))\n",
    "\n",
    "y_pred = ltv_xgb_model.predict(X_test)\n",
    "print(classification_report(Y_test, y_pred))\n"
   ]
  },
  {
   "cell_type": "code",
   "execution_count": 302,
   "id": "ab7086e9",
   "metadata": {},
   "outputs": [
    {
     "data": {
      "text/plain": [
       "array([[129, 338],\n",
       "       [ 95, 921]], dtype=int64)"
      ]
     },
     "execution_count": 302,
     "metadata": {},
     "output_type": "execute_result"
    }
   ],
   "source": [
    "conf_matrix1 = confusion_matrix(Y_test, y_pred)\n",
    "conf_matrix1"
   ]
  },
  {
   "cell_type": "code",
   "execution_count": 305,
   "id": "a13371b6",
   "metadata": {},
   "outputs": [],
   "source": [
    "from xgboost import XGBClassifier\n",
    "from sklearn.model_selection import GridSearchCV"
   ]
  },
  {
   "cell_type": "code",
   "execution_count": 306,
   "id": "c5c33298",
   "metadata": {},
   "outputs": [],
   "source": [
    "estimator = XGBClassifier(\n",
    "    objective= 'binary:logistic',\n",
    "    nthread=4,\n",
    "    seed=42\n",
    ")"
   ]
  },
  {
   "cell_type": "code",
   "execution_count": 307,
   "id": "e32efb4c",
   "metadata": {},
   "outputs": [],
   "source": [
    "parameters = {\n",
    "    'max_depth': range (2, 10, 1),\n",
    "    'n_estimators': range(60, 220, 40),\n",
    "    'learning_rate': [0.1, 0.01, 0.05]\n",
    "}"
   ]
  },
  {
   "cell_type": "code",
   "execution_count": 308,
   "id": "055f3624",
   "metadata": {},
   "outputs": [],
   "source": [
    "#10 fold cross validation\n",
    "grid_search = GridSearchCV(\n",
    "    estimator=estimator,\n",
    "    param_grid=parameters,\n",
    "    scoring = 'roc_auc',\n",
    "    n_jobs = 10,\n",
    "    cv = 10,\n",
    "    verbose=True\n",
    ")"
   ]
  },
  {
   "cell_type": "code",
   "execution_count": 309,
   "id": "9c14df66",
   "metadata": {},
   "outputs": [
    {
     "name": "stdout",
     "output_type": "stream",
     "text": [
      "Fitting 10 folds for each of 96 candidates, totalling 960 fits\n",
      "[15:22:17] WARNING: C:/Users/Administrator/workspace/xgboost-win64_release_1.5.1/src/learner.cc:1115: Starting in XGBoost 1.3.0, the default evaluation metric used with the objective 'binary:logistic' was changed from 'error' to 'logloss'. Explicitly set eval_metric if you'd like to restore the old behavior.\n"
     ]
    },
    {
     "data": {
      "text/plain": [
       "GridSearchCV(cv=10,\n",
       "             estimator=XGBClassifier(base_score=None, booster=None,\n",
       "                                     colsample_bylevel=None,\n",
       "                                     colsample_bynode=None,\n",
       "                                     colsample_bytree=None,\n",
       "                                     enable_categorical=False, gamma=None,\n",
       "                                     gpu_id=None, importance_type=None,\n",
       "                                     interaction_constraints=None,\n",
       "                                     learning_rate=None, max_delta_step=None,\n",
       "                                     max_depth=None, min_child_weight=None,\n",
       "                                     missing=nan, monotone_constraints=None,\n",
       "                                     n_estimators=100, n_jobs=None, nthread=4,\n",
       "                                     num_parallel_tree=None, predictor=None,\n",
       "                                     random_state=None, reg_alpha=None,\n",
       "                                     reg_lambda=None, scale_pos_weight=None,\n",
       "                                     seed=42, subsample=None, tree_method=None,\n",
       "                                     validate_parameters=None, verbosity=None),\n",
       "             n_jobs=10,\n",
       "             param_grid={'learning_rate': [0.1, 0.01, 0.05],\n",
       "                         'max_depth': range(2, 10),\n",
       "                         'n_estimators': range(60, 220, 40)},\n",
       "             scoring='roc_auc', verbose=True)"
      ]
     },
     "execution_count": 309,
     "metadata": {},
     "output_type": "execute_result"
    }
   ],
   "source": [
    "grid_search.fit(X_train, Y_train)"
   ]
  },
  {
   "cell_type": "code",
   "execution_count": 312,
   "id": "c1c51bc4",
   "metadata": {},
   "outputs": [
    {
     "data": {
      "text/plain": [
       "XGBClassifier(base_score=0.5, booster='gbtree', colsample_bylevel=1,\n",
       "              colsample_bynode=1, colsample_bytree=1, enable_categorical=False,\n",
       "              gamma=0, gpu_id=-1, importance_type=None,\n",
       "              interaction_constraints='', learning_rate=0.05, max_delta_step=0,\n",
       "              max_depth=2, min_child_weight=1, missing=nan,\n",
       "              monotone_constraints='()', n_estimators=60, n_jobs=4, nthread=4,\n",
       "              num_parallel_tree=1, predictor='auto', random_state=42,\n",
       "              reg_alpha=0, reg_lambda=1, scale_pos_weight=1, seed=42,\n",
       "              subsample=1, tree_method='exact', validate_parameters=1,\n",
       "              verbosity=None)"
      ]
     },
     "execution_count": 312,
     "metadata": {},
     "output_type": "execute_result"
    }
   ],
   "source": [
    "best_fit = grid_search.best_estimator_\n",
    "best_fit"
   ]
  },
  {
   "cell_type": "code",
   "execution_count": 313,
   "id": "f26facb9",
   "metadata": {},
   "outputs": [
    {
     "name": "stdout",
     "output_type": "stream",
     "text": [
      "              precision    recall  f1-score   support\n",
      "\n",
      "        High       0.61      0.25      0.35       467\n",
      "         Low       0.73      0.93      0.82      1016\n",
      "\n",
      "    accuracy                           0.71      1483\n",
      "   macro avg       0.67      0.59      0.58      1483\n",
      "weighted avg       0.69      0.71      0.67      1483\n",
      "\n"
     ]
    }
   ],
   "source": [
    "y_pred_bestfit = best_fit.predict(X_test)\n",
    "print(classification_report(Y_test, y_pred_bestfit))"
   ]
  },
  {
   "cell_type": "code",
   "execution_count": null,
   "id": "aee68b1b",
   "metadata": {},
   "outputs": [],
   "source": []
  }
 ],
 "metadata": {
  "kernelspec": {
   "display_name": "Python 3",
   "language": "python",
   "name": "python3"
  },
  "language_info": {
   "codemirror_mode": {
    "name": "ipython",
    "version": 3
   },
   "file_extension": ".py",
   "mimetype": "text/x-python",
   "name": "python",
   "nbconvert_exporter": "python",
   "pygments_lexer": "ipython3",
   "version": "3.8.8"
  }
 },
 "nbformat": 4,
 "nbformat_minor": 5
}
